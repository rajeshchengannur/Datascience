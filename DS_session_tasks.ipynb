{
  "nbformat": 4,
  "nbformat_minor": 0,
  "metadata": {
    "colab": {
      "provenance": [],
      "include_colab_link": true
    },
    "kernelspec": {
      "name": "python3",
      "display_name": "Python 3"
    },
    "language_info": {
      "name": "python"
    }
  },
  "cells": [
    {
      "cell_type": "markdown",
      "metadata": {
        "id": "view-in-github",
        "colab_type": "text"
      },
      "source": [
        "<a href=\"https://colab.research.google.com/github/rajeshchengannur/Datascience/blob/master/DS_session_tasks.ipynb\" target=\"_parent\"><img src=\"https://colab.research.google.com/assets/colab-badge.svg\" alt=\"Open In Colab\"/></a>"
      ]
    },
    {
      "cell_type": "markdown",
      "source": [
        "# Task : Session 1\n",
        "Solve these questions own your own and try to test yourself what you have learned in the session.\n",
        "\n",
        "Happy Learning!"
      ],
      "metadata": {
        "id": "A05OG15VqOPF"
      }
    },
    {
      "cell_type": "markdown",
      "source": [
        "### Q1 :- Print the given strings as per stated format.\n",
        "\n",
        "**Given strings**: \n",
        "```\n",
        "\"Data\" \"Science\" \"Mentorship\" \"Program\" \n",
        "\"By\" \"CampusX\"\n",
        "```\n",
        "**Output**: \n",
        "``` \n",
        "Data-Science-Mentorship-Program-started-By-CampusX\n",
        "```\n",
        "\n",
        "Concept- [Seperator and End]"
      ],
      "metadata": {
        "id": "2doIXf8bqe9_"
      }
    },
    {
      "cell_type": "code",
      "source": [
        "# Write your code \n",
        "print(\"Data\", \"Science\", \"Mentorship\", \"Program\" , sep='-', end='-')\n",
        "print(\"By\" ,\"CampusX\",sep='-')"
      ],
      "metadata": {
        "id": "-em6d3KErDtp",
        "outputId": "8e9690a6-e105-478c-9171-eec28a8df9d5",
        "colab": {
          "base_uri": "https://localhost:8080/"
        }
      },
      "execution_count": 9,
      "outputs": [
        {
          "output_type": "stream",
          "name": "stdout",
          "text": [
            "Data-Science-Mentorship-Program-By-CampusX\n"
          ]
        }
      ]
    },
    {
      "cell_type": "markdown",
      "source": [
        "### Q2:- Write a program that will convert celsius value to fahrenheit."
      ],
      "metadata": {
        "id": "1KUpN7ZTrC3_"
      }
    },
    {
      "cell_type": "code",
      "source": [
        "# Write your code here\n",
        "celsius = float(input(\"Enter the temparature in celsius\"))\n",
        "f = (celsius*9/5) + 32\n",
        "print(f)"
      ],
      "metadata": {
        "id": "yxKYhYQiqWfj",
        "colab": {
          "base_uri": "https://localhost:8080/"
        },
        "outputId": "bdec0c23-d33c-4ae7-e6b2-df5cda6b5af8"
      },
      "execution_count": 10,
      "outputs": [
        {
          "output_type": "stream",
          "name": "stdout",
          "text": [
            "Enter the temparature in celsius33\n",
            "91.4\n"
          ]
        }
      ]
    },
    {
      "cell_type": "markdown",
      "source": [
        "### Q3:- Take 2 numbers as input from the user.Write a program to swap the numbers without using any special python syntax."
      ],
      "metadata": {
        "id": "RLrOBBJurLB2"
      }
    },
    {
      "cell_type": "code",
      "source": [
        "# Write your code here\n",
        "a= int(input(\"Enter the first Number\"))\n",
        "b=int(input(\"Enter the second Number\"))\n",
        "print (a,b)\n",
        "c= a\n",
        "a=b\n",
        "b=c\n",
        "print(a,b)\n"
      ],
      "metadata": {
        "id": "yPn7if0TrJ4F",
        "colab": {
          "base_uri": "https://localhost:8080/"
        },
        "outputId": "5466fd50-48a6-49dd-ff05-295d930487ec"
      },
      "execution_count": 11,
      "outputs": [
        {
          "output_type": "stream",
          "name": "stdout",
          "text": [
            "Enter the first Number22\n",
            "Enter the second Number34\n",
            "22 34\n",
            "34 22\n"
          ]
        }
      ]
    },
    {
      "cell_type": "markdown",
      "source": [
        "### Q4:- Write a program to find the euclidean distance between two coordinates.Take both the coordinates from the user as input."
      ],
      "metadata": {
        "id": "waLCP1bjr7ML"
      }
    },
    {
      "cell_type": "code",
      "source": [
        "# Write your code here\n",
        "p = list(input(\"Enter the first co-ordinates\"))\n",
        "q= list(input(\"Enter the second co-ordinates\"))\n",
        "print(p,q)\n",
        "\n",
        "#Euclidean distance is ((x2-x1)^2 + (y2-y1)^2)^1/2\n",
        "a= p[0]\n",
        "d = ((int(p[0])-int(q[0]))**2 + (int(p[1])-int(q[1]))**2)**0.5\n",
        "print (d)\n",
        "\n"
      ],
      "metadata": {
        "id": "Pl1Sv-xnrxnH",
        "colab": {
          "base_uri": "https://localhost:8080/"
        },
        "outputId": "fd02a944-84ea-4dbb-913f-ae09ced8d984"
      },
      "execution_count": 12,
      "outputs": [
        {
          "output_type": "stream",
          "name": "stdout",
          "text": [
            "Enter the first co-ordinates25\n",
            "Enter the second co-ordinates39\n",
            "['2', '5'] ['3', '9']\n",
            "4.123105625617661\n"
          ]
        }
      ]
    },
    {
      "cell_type": "markdown",
      "source": [
        "### Q5:- Write a program to find the simple interest when the value of principle,rate of interest and time period is provided by the user.\n"
      ],
      "metadata": {
        "id": "VLrhg-FRsHjR"
      }
    },
    {
      "cell_type": "code",
      "source": [
        "# Write your code here\n",
        "\n",
        "p=float(input('The principal is'))\n",
        "t= float(input('The time period is'))\n",
        "r=float(input('The rate of interest is'))\n",
        "si = (p * t * r)/100\n",
        "print('The Simple Interest is', si)"
      ],
      "metadata": {
        "id": "s40DlReZsTmY",
        "colab": {
          "base_uri": "https://localhost:8080/"
        },
        "outputId": "ac69102e-6731-47a7-daa5-578c096aae42"
      },
      "execution_count": 13,
      "outputs": [
        {
          "output_type": "stream",
          "name": "stdout",
          "text": [
            "The principal is2300\n",
            "The time period is5\n",
            "The rate of interest is9.5\n",
            "The Simple Interest is 1092.5\n"
          ]
        }
      ]
    },
    {
      "cell_type": "markdown",
      "source": [
        "6### Q6:- Write a program that will tell the number of dogs and chicken are there when the user will provide the value of total heads and legs.\n",
        "\n",
        "For example:\n",
        "Input:\n",
        "heads -> 4\n",
        "legs -> 12\n",
        "<br>\n",
        "Output:\n",
        "dogs -> 2\n",
        "chicken -> 2\n",
        "\n",
        "\n",
        "\n"
      ],
      "metadata": {
        "id": "LMy0BTUktYKa"
      }
    },
    {
      "cell_type": "code",
      "source": [
        "# Write your code here\n",
        "legs = int(input(\"Enter Heads\"))\n",
        "heads = int(input(\"Enter legs\"))\n",
        "print(\"Dogs :\",heads)\n",
        "print(\"Chicken :\",int(legs/2))"
      ],
      "metadata": {
        "id": "XSBvJoA4tXaG",
        "colab": {
          "base_uri": "https://localhost:8080/"
        },
        "outputId": "20bad07d-f664-4567-c014-5bcca1144656"
      },
      "execution_count": 14,
      "outputs": [
        {
          "output_type": "stream",
          "name": "stdout",
          "text": [
            "Enter Heads4\n",
            "Enter legs14\n",
            "Dogs : 14\n",
            "Chicken : 2\n"
          ]
        }
      ]
    },
    {
      "cell_type": "markdown",
      "source": [
        "### Q7:- Write a program to find the sum of squares of first n natural numbers where n will be provided by the user."
      ],
      "metadata": {
        "id": "gJ7C5kZYt4BP"
      }
    },
    {
      "cell_type": "code",
      "source": [
        "# Write your code here\n",
        "\n",
        "n = int(input(\"Enter limit of Natural numbers :\"))\n",
        "sum = 0\n",
        "while(n > 0):\n",
        "  sum+=n**2\n",
        "  n=n-1\n",
        "\n",
        "print(\"sum is :\",sum)"
      ],
      "metadata": {
        "id": "_tHsmEHzt2nX",
        "colab": {
          "base_uri": "https://localhost:8080/"
        },
        "outputId": "326edd65-80ea-40d8-a4f2-c60cdccd1a2c"
      },
      "execution_count": 15,
      "outputs": [
        {
          "output_type": "stream",
          "name": "stdout",
          "text": [
            "Enter limit of Natural numbers :9\n",
            "sum is : 285\n"
          ]
        }
      ]
    },
    {
      "cell_type": "markdown",
      "source": [
        "### Q8:- Given the first 2 terms of an Arithmetic Series.Find the Nth term of the series. Assume all inputs are provided by the user."
      ],
      "metadata": {
        "id": "FHrMM7g-yG1h"
      }
    },
    {
      "cell_type": "code",
      "source": [
        "# Write your code here\n",
        "\n",
        "firstTerm = int(input(\"Enter the first term :\"))\n",
        "secondTerm = int(input(\"Enter the second term :\"))\n",
        "n= int(input(\"Ente the value of n :\"))\n",
        "\n",
        "n_thTerm =firstTerm + (n-1)*(secondTerm - firstTerm)\n",
        "print(\"Nth Term is :\",n_thTerm)"
      ],
      "metadata": {
        "id": "go4_kmZmyVSx",
        "colab": {
          "base_uri": "https://localhost:8080/"
        },
        "outputId": "76bf0c3b-495d-4236-c186-146e17e17ca3"
      },
      "execution_count": 16,
      "outputs": [
        {
          "output_type": "stream",
          "name": "stdout",
          "text": [
            "Enter the first term :2\n",
            "Enter the second term :4\n",
            "Ente the value of n :6\n",
            "Nth Term is : 12\n"
          ]
        }
      ]
    },
    {
      "cell_type": "markdown",
      "source": [
        "### Q9:- Given 2 fractions, find the sum of those 2 fractions.Take the numerator and denominator values of the fractions from the user."
      ],
      "metadata": {
        "id": "QgyRX_es1oum"
      }
    },
    {
      "cell_type": "code",
      "source": [
        "# Write your code here\n",
        "fraction1 = input(\"enter fraction no 1 with comma seperated:\")\n",
        "fraction1 = fraction1.split(\",\")\n",
        "\n",
        "fraction2 = input(\"enter fraction no 2 with comma seperated:\")\n",
        "fraction2 = fraction2.split(\",\")\n",
        "\n",
        "a=(float(fraction1[0])/float(fraction1[1]))\n",
        "b=(float(fraction2[0])/float(fraction2[1]))\n",
        "sum = a+b\n",
        "print(\"sum of the fractions is :\", sum)"
      ],
      "metadata": {
        "id": "X05xqFS1yW16",
        "colab": {
          "base_uri": "https://localhost:8080/"
        },
        "outputId": "21624c13-d563-47c0-849b-d4505e1c608a"
      },
      "execution_count": 17,
      "outputs": [
        {
          "output_type": "stream",
          "name": "stdout",
          "text": [
            "enter fraction no 1 with comma seperated:22,7\n",
            "enter fraction no 2 with comma seperated:32,5\n",
            "sum of the fractions is : 9.542857142857143\n"
          ]
        }
      ]
    },
    {
      "cell_type": "markdown",
      "source": [
        "### Q10:- Given the height, width and breadth of a milk tank, you have to find out how many glasses of milk can be obtained? Assume all the inputs are provided by the user.\n",
        "\n",
        "\n",
        "\n",
        "Input:<br>\n",
        "Dimensions of the milk tank<br>\n",
        "H = 20cm, L = 20cm, B = 20cm\n",
        "<br><br>\n",
        "Dimensions of the glass<br>\n",
        "h = 3cm, r = 1cm"
      ],
      "metadata": {
        "id": "eaql38ln13u7"
      }
    },
    {
      "cell_type": "code",
      "source": [
        "# Write your code here\n",
        "\n",
        "h= float(input(\"Enter height of the tank :\"))\n",
        "l = float(input(\"Enter length of the tank :\"))\n",
        "b= float(input(\"Enter bredth of the tank :\"))\n",
        "\n",
        "Area_of_glass = 3*(22/7)*(1**2)\n",
        "Area_of_tank = l*b*h\n",
        "\n",
        "no_of_glss = float(Area_of_tank)/float(Area_of_glass)\n",
        "print(\"No of glasses is :\", round(no_of_glss,2), \" glasses\")\n",
        "\n"
      ],
      "metadata": {
        "id": "FePZqno74eWv",
        "colab": {
          "base_uri": "https://localhost:8080/"
        },
        "outputId": "46e5683a-76ad-441c-eebc-7af9cd521923"
      },
      "execution_count": 8,
      "outputs": [
        {
          "output_type": "stream",
          "name": "stdout",
          "text": [
            "Enter height of the tank :20\n",
            "Enter length of the tank :20\n",
            "Enter bredth of the tank :20\n",
            "No of glasses is : 848.48  glasses\n"
          ]
        }
      ]
    }
  ]
}