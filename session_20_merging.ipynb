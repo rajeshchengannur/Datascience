{
  "nbformat": 4,
  "nbformat_minor": 0,
  "metadata": {
    "colab": {
      "provenance": [],
      "include_colab_link": true
    },
    "kernelspec": {
      "name": "python3",
      "display_name": "Python 3"
    },
    "language_info": {
      "name": "python"
    }
  },
  "cells": [
    {
      "cell_type": "markdown",
      "metadata": {
        "id": "view-in-github",
        "colab_type": "text"
      },
      "source": [
        "<a href=\"https://colab.research.google.com/github/rajeshchengannur/Datascience/blob/master/session_20_merging.ipynb\" target=\"_parent\"><img src=\"https://colab.research.google.com/assets/colab-badge.svg\" alt=\"Open In Colab\"/></a>"
      ]
    },
    {
      "cell_type": "code",
      "execution_count": null,
      "metadata": {
        "id": "a5Z8pAwoVxoP"
      },
      "outputs": [],
      "source": [
        "import pandas as pd\n",
        "import numpy as np"
      ]
    },
    {
      "cell_type": "code",
      "source": [],
      "metadata": {
        "id": "ziYWX2MFJb6x"
      },
      "execution_count": null,
      "outputs": []
    },
    {
      "cell_type": "code",
      "source": [
        "# pd.concat\n",
        "# df.concat\n",
        "# ignore_index\n",
        "# df.append\n",
        "# mullitindex -> fetch using iloc\n",
        "# concat dataframes horizontally"
      ],
      "metadata": {
        "id": "TXh8WSR1JkpL"
      },
      "execution_count": null,
      "outputs": []
    },
    {
      "cell_type": "code",
      "source": [],
      "metadata": {
        "id": "7XxxSP53TUB-"
      },
      "execution_count": null,
      "outputs": []
    },
    {
      "cell_type": "code",
      "source": [
        "# inner join"
      ],
      "metadata": {
        "id": "HQL6BVt5aW7-"
      },
      "execution_count": null,
      "outputs": []
    },
    {
      "cell_type": "code",
      "source": [
        "# left join"
      ],
      "metadata": {
        "id": "BWAYHLYlaYd9"
      },
      "execution_count": null,
      "outputs": []
    },
    {
      "cell_type": "code",
      "source": [
        "# right join"
      ],
      "metadata": {
        "id": "Sr26A-bQabml"
      },
      "execution_count": null,
      "outputs": []
    },
    {
      "cell_type": "code",
      "source": [
        "# outer join"
      ],
      "metadata": {
        "id": "6VGmV4sIacyd"
      },
      "execution_count": null,
      "outputs": []
    },
    {
      "cell_type": "code",
      "source": [
        "# 1. find total revenue generated"
      ],
      "metadata": {
        "id": "dXDqJUq8b4QU"
      },
      "execution_count": null,
      "outputs": []
    },
    {
      "cell_type": "code",
      "source": [
        "# 2. find month by month revenue"
      ],
      "metadata": {
        "id": "t15YgU7ab9sU"
      },
      "execution_count": null,
      "outputs": []
    },
    {
      "cell_type": "code",
      "source": [
        "# 3. Print the registration table\n",
        "# cols -> name -> course -> price"
      ],
      "metadata": {
        "id": "KMNOZ3Q0TwWG"
      },
      "execution_count": null,
      "outputs": []
    },
    {
      "cell_type": "code",
      "source": [
        "# 4. Plot bar chart for revenue/course"
      ],
      "metadata": {
        "id": "bpmd67TscCco"
      },
      "execution_count": null,
      "outputs": []
    },
    {
      "cell_type": "code",
      "source": [
        "# 5. find students who enrolled in both the months"
      ],
      "metadata": {
        "id": "lyfAkCIDbK84"
      },
      "execution_count": null,
      "outputs": []
    },
    {
      "cell_type": "code",
      "source": [
        "# 6. find course that got no enrollment"
      ],
      "metadata": {
        "id": "MoijwjVMbPJR"
      },
      "execution_count": null,
      "outputs": []
    },
    {
      "cell_type": "code",
      "source": [
        "# 7. find students who did not enroll into any courses"
      ],
      "metadata": {
        "id": "S_otfgAQbTR1"
      },
      "execution_count": null,
      "outputs": []
    },
    {
      "cell_type": "code",
      "source": [
        "# 8. Print student name -> partner name for all enrolled students"
      ],
      "metadata": {
        "id": "CtFWrIg-cOiZ"
      },
      "execution_count": null,
      "outputs": []
    },
    {
      "cell_type": "code",
      "source": [
        "# 9. find top 3 students who did most number enrollments"
      ],
      "metadata": {
        "id": "O-JS7P55fypl"
      },
      "execution_count": null,
      "outputs": []
    },
    {
      "cell_type": "code",
      "source": [
        "# 10. find top 3 students who spent most amount of money on courses"
      ],
      "metadata": {
        "id": "sKF8FTKYf54W"
      },
      "execution_count": null,
      "outputs": []
    },
    {
      "cell_type": "code",
      "source": [
        "# Alternate syntax for merge"
      ],
      "metadata": {
        "id": "GIrMQGYtkTDR"
      },
      "execution_count": null,
      "outputs": []
    },
    {
      "cell_type": "code",
      "source": [
        "# IPL Problems\n",
        "\n",
        "# find top 3 studiums with highest sixes/match ratio\n",
        "# find orange cap holder of all the seasons"
      ],
      "metadata": {
        "id": "Npm6witrwRma"
      },
      "execution_count": null,
      "outputs": []
    }
  ]
}