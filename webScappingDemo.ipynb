{
  "nbformat": 4,
  "nbformat_minor": 0,
  "metadata": {
    "colab": {
      "provenance": [],
      "authorship_tag": "ABX9TyOr3soHL+scyKkyPNsGzjaw",
      "include_colab_link": true
    },
    "kernelspec": {
      "name": "python3",
      "display_name": "Python 3"
    },
    "language_info": {
      "name": "python"
    }
  },
  "cells": [
    {
      "cell_type": "markdown",
      "metadata": {
        "id": "view-in-github",
        "colab_type": "text"
      },
      "source": [
        "<a href=\"https://colab.research.google.com/github/rajeshchengannur/Datascience/blob/master/webScappingDemo.ipynb\" target=\"_parent\"><img src=\"https://colab.research.google.com/assets/colab-badge.svg\" alt=\"Open In Colab\"/></a>"
      ]
    },
    {
      "cell_type": "code",
      "execution_count": 28,
      "metadata": {
        "id": "SwmweVitJXHB"
      },
      "outputs": [],
      "source": [
        "import pandas as pd\n",
        "import numpy as np\n",
        "import requests\n",
        "from bs4 import BeautifulSoup"
      ]
    },
    {
      "cell_type": "code",
      "source": [
        "requests.get('https://www.ambitionbox.com/list-of-companies?page=1')"
      ],
      "metadata": {
        "colab": {
          "base_uri": "https://localhost:8080/"
        },
        "id": "o3kjyQ9cJnqi",
        "outputId": "ed25e50d-f315-4333-b38b-299acba3feaf"
      },
      "execution_count": 2,
      "outputs": [
        {
          "output_type": "execute_result",
          "data": {
            "text/plain": [
              "<Response [403]>"
            ]
          },
          "metadata": {},
          "execution_count": 2
        }
      ]
    },
    {
      "cell_type": "code",
      "source": [
        "requests.get('https://www.ambitionbox.com/list-of-companies?page=1').text"
      ],
      "metadata": {
        "colab": {
          "base_uri": "https://localhost:8080/",
          "height": 53
        },
        "id": "7VkForksKcoB",
        "outputId": "7b8b5796-0ca1-4099-e7ab-f2b007e1d833"
      },
      "execution_count": 3,
      "outputs": [
        {
          "output_type": "execute_result",
          "data": {
            "text/plain": [
              "'<HTML><HEAD>\\n<TITLE>Access Denied</TITLE>\\n</HEAD><BODY>\\n<H1>Access Denied</H1>\\n \\nYou don\\'t have permission to access \"http&#58;&#47;&#47;www&#46;ambitionbox&#46;com&#47;list&#45;of&#45;companies&#63;\" on this server.<P>\\nReference&#32;&#35;18&#46;adc33d17&#46;1675157461&#46;7cf5ecc\\n</BODY>\\n</HTML>\\n'"
            ],
            "application/vnd.google.colaboratory.intrinsic+json": {
              "type": "string"
            }
          },
          "metadata": {},
          "execution_count": 3
        }
      ]
    },
    {
      "cell_type": "code",
      "source": [
        "\n",
        "headers = {'User-Agent': \"Mozilla/5.0 (Windows NT 10.0; Win64; x64) AppleWebKit/537.36 (KHTML, like Gecko) Chrome/42.0.2311.135 Safari/537.36 Edge/12.246\"}\n",
        "# Here the user agent is for Edge browser on windows 10. You can find your browser user agent from the above given link.\n",
        "#r = requests.get(url=URL, headers=headers)\n",
        "#print(r.content)\n",
        "\n",
        "#URL = \"http://www.values.com/inspirational-quotes\"\n",
        "webpage=requests.get('https://www.ambitionbox.com/list-of-companies?page=1',headers=headers).text"
      ],
      "metadata": {
        "id": "KGnjzfTHKlX8"
      },
      "execution_count": 5,
      "outputs": []
    },
    {
      "cell_type": "code",
      "source": [
        "soup=BeautifulSoup(webpage,'lxml')"
      ],
      "metadata": {
        "id": "7ocTPnVrNMht"
      },
      "execution_count": 6,
      "outputs": []
    },
    {
      "cell_type": "code",
      "source": [
        "#print(soup.prettify())\n",
        "soup.find_all('h1')[0].text\n"
      ],
      "metadata": {
        "colab": {
          "base_uri": "https://localhost:8080/",
          "height": 35
        },
        "id": "KRHsayksNZ2L",
        "outputId": "17ad23b8-a560-4747-879c-128f853e6ee8"
      },
      "execution_count": 8,
      "outputs": [
        {
          "output_type": "execute_result",
          "data": {
            "text/plain": [
              "'List of companies in India'"
            ],
            "application/vnd.google.colaboratory.intrinsic+json": {
              "type": "string"
            }
          },
          "metadata": {},
          "execution_count": 8
        }
      ]
    },
    {
      "cell_type": "code",
      "source": [
        "#soup.find_all('h2')\n",
        "for i in soup.find_all('h2'):\n",
        "  print(i.text.strip())"
      ],
      "metadata": {
        "colab": {
          "base_uri": "https://localhost:8080/"
        },
        "id": "ymVcnCmkNm9T",
        "outputId": "d83f6595-dc29-4960-e64c-e69a25a43669"
      },
      "execution_count": 12,
      "outputs": [
        {
          "output_type": "stream",
          "name": "stdout",
          "text": [
            "TCS\n",
            "Accenture\n",
            "Cognizant\n",
            "ICICI Bank\n",
            "HDFC Bank\n",
            "Wipro\n",
            "Infosys\n",
            "Capgemini\n",
            "Tech Mahindra\n",
            "Genpact\n",
            "HCLTech\n",
            "Amazon\n",
            "Axis Bank\n",
            "IBM\n",
            "Concentrix Corpo...\n",
            "Reliance jio\n",
            "Larsen & Toubro ...\n",
            "HDB Financial Se...\n",
            "Vodafone Idea\n",
            "Teleperformance\n",
            "Reliance Retail\n",
            "Kotak Mahindra B...\n",
            "Deloitte\n",
            "Reliance Industr...\n",
            "Bharti Airtel\n",
            "Tata Motors\n",
            "BYJU'S\n",
            "Flipkart\n",
            "WNS\n",
            "Mahindra & Mahin...\n"
          ]
        }
      ]
    },
    {
      "cell_type": "code",
      "source": [
        "soup.find_all('p',class_='rating')"
      ],
      "metadata": {
        "colab": {
          "base_uri": "https://localhost:8080/"
        },
        "id": "xqgENuSSPHqU",
        "outputId": "d09ac6fa-b530-4add-fe9a-e8ca75e37f0f"
      },
      "execution_count": 14,
      "outputs": [
        {
          "output_type": "execute_result",
          "data": {
            "text/plain": [
              "[<p class=\"rating badge-large rating-35\"><i class=\"icon icon-star\"></i>\n",
              " \t\t\t\t\t\t\t\t\t3.9\n",
              " \t\t\t\t\t\t\t\t</p>,\n",
              " <p class=\"rating badge-large rating-4\"><i class=\"icon icon-star\"></i>\n",
              " \t\t\t\t\t\t\t\t\t4.1\n",
              " \t\t\t\t\t\t\t\t</p>,\n",
              " <p class=\"rating badge-large rating-35\"><i class=\"icon icon-star\"></i>\n",
              " \t\t\t\t\t\t\t\t\t3.9\n",
              " \t\t\t\t\t\t\t\t</p>,\n",
              " <p class=\"rating badge-large rating-4\"><i class=\"icon icon-star\"></i>\n",
              " \t\t\t\t\t\t\t\t\t4.0\n",
              " \t\t\t\t\t\t\t\t</p>,\n",
              " <p class=\"rating badge-large rating-4\"><i class=\"icon icon-star\"></i>\n",
              " \t\t\t\t\t\t\t\t\t4.0\n",
              " \t\t\t\t\t\t\t\t</p>,\n",
              " <p class=\"rating badge-large rating-35\"><i class=\"icon icon-star\"></i>\n",
              " \t\t\t\t\t\t\t\t\t3.9\n",
              " \t\t\t\t\t\t\t\t</p>,\n",
              " <p class=\"rating badge-large rating-35\"><i class=\"icon icon-star\"></i>\n",
              " \t\t\t\t\t\t\t\t\t3.9\n",
              " \t\t\t\t\t\t\t\t</p>,\n",
              " <p class=\"rating badge-large rating-35\"><i class=\"icon icon-star\"></i>\n",
              " \t\t\t\t\t\t\t\t\t3.9\n",
              " \t\t\t\t\t\t\t\t</p>,\n",
              " <p class=\"rating badge-large rating-35\"><i class=\"icon icon-star\"></i>\n",
              " \t\t\t\t\t\t\t\t\t3.7\n",
              " \t\t\t\t\t\t\t\t</p>,\n",
              " <p class=\"rating badge-large rating-4\"><i class=\"icon icon-star\"></i>\n",
              " \t\t\t\t\t\t\t\t\t4.0\n",
              " \t\t\t\t\t\t\t\t</p>,\n",
              " <p class=\"rating badge-large rating-35\"><i class=\"icon icon-star\"></i>\n",
              " \t\t\t\t\t\t\t\t\t3.8\n",
              " \t\t\t\t\t\t\t\t</p>,\n",
              " <p class=\"rating badge-large rating-4\"><i class=\"icon icon-star\"></i>\n",
              " \t\t\t\t\t\t\t\t\t4.3\n",
              " \t\t\t\t\t\t\t\t</p>,\n",
              " <p class=\"rating badge-large rating-35\"><i class=\"icon icon-star\"></i>\n",
              " \t\t\t\t\t\t\t\t\t3.9\n",
              " \t\t\t\t\t\t\t\t</p>,\n",
              " <p class=\"rating badge-large rating-4\"><i class=\"icon icon-star\"></i>\n",
              " \t\t\t\t\t\t\t\t\t4.2\n",
              " \t\t\t\t\t\t\t\t</p>,\n",
              " <p class=\"rating badge-large rating-4\"><i class=\"icon icon-star\"></i>\n",
              " \t\t\t\t\t\t\t\t\t4.0\n",
              " \t\t\t\t\t\t\t\t</p>,\n",
              " <p class=\"rating badge-large rating-4\"><i class=\"icon icon-star\"></i>\n",
              " \t\t\t\t\t\t\t\t\t4.0\n",
              " \t\t\t\t\t\t\t\t</p>,\n",
              " <p class=\"rating badge-large rating-4\"><i class=\"icon icon-star\"></i>\n",
              " \t\t\t\t\t\t\t\t\t4.1\n",
              " \t\t\t\t\t\t\t\t</p>,\n",
              " <p class=\"rating badge-large rating-4\"><i class=\"icon icon-star\"></i>\n",
              " \t\t\t\t\t\t\t\t\t4.0\n",
              " \t\t\t\t\t\t\t\t</p>,\n",
              " <p class=\"rating badge-large rating-4\"><i class=\"icon icon-star\"></i>\n",
              " \t\t\t\t\t\t\t\t\t4.2\n",
              " \t\t\t\t\t\t\t\t</p>,\n",
              " <p class=\"rating badge-large rating-35\"><i class=\"icon icon-star\"></i>\n",
              " \t\t\t\t\t\t\t\t\t3.6\n",
              " \t\t\t\t\t\t\t\t</p>,\n",
              " <p class=\"rating badge-large rating-4\"><i class=\"icon icon-star\"></i>\n",
              " \t\t\t\t\t\t\t\t\t4.1\n",
              " \t\t\t\t\t\t\t\t</p>,\n",
              " <p class=\"rating badge-large rating-35\"><i class=\"icon icon-star\"></i>\n",
              " \t\t\t\t\t\t\t\t\t3.9\n",
              " \t\t\t\t\t\t\t\t</p>,\n",
              " <p class=\"rating badge-large rating-4\"><i class=\"icon icon-star\"></i>\n",
              " \t\t\t\t\t\t\t\t\t4.1\n",
              " \t\t\t\t\t\t\t\t</p>,\n",
              " <p class=\"rating badge-large rating-4\"><i class=\"icon icon-star\"></i>\n",
              " \t\t\t\t\t\t\t\t\t4.1\n",
              " \t\t\t\t\t\t\t\t</p>,\n",
              " <p class=\"rating badge-large rating-4\"><i class=\"icon icon-star\"></i>\n",
              " \t\t\t\t\t\t\t\t\t4.1\n",
              " \t\t\t\t\t\t\t\t</p>,\n",
              " <p class=\"rating badge-large rating-4\"><i class=\"icon icon-star\"></i>\n",
              " \t\t\t\t\t\t\t\t\t4.1\n",
              " \t\t\t\t\t\t\t\t</p>,\n",
              " <p class=\"rating badge-large rating-35\"><i class=\"icon icon-star\"></i>\n",
              " \t\t\t\t\t\t\t\t\t3.5\n",
              " \t\t\t\t\t\t\t\t</p>,\n",
              " <p class=\"rating badge-large rating-4\"><i class=\"icon icon-star\"></i>\n",
              " \t\t\t\t\t\t\t\t\t4.2\n",
              " \t\t\t\t\t\t\t\t</p>,\n",
              " <p class=\"rating badge-large rating-35\"><i class=\"icon icon-star\"></i>\n",
              " \t\t\t\t\t\t\t\t\t3.7\n",
              " \t\t\t\t\t\t\t\t</p>,\n",
              " <p class=\"rating badge-large rating-35\"><i class=\"icon icon-star\"></i>\n",
              " \t\t\t\t\t\t\t\t\t3.9\n",
              " \t\t\t\t\t\t\t\t</p>]"
            ]
          },
          "metadata": {},
          "execution_count": 14
        }
      ]
    },
    {
      "cell_type": "code",
      "source": [
        "company=soup.find_all('div',class_='company-content-wrapper')"
      ],
      "metadata": {
        "id": "3NmSQ_-3QNTn"
      },
      "execution_count": 15,
      "outputs": []
    },
    {
      "cell_type": "code",
      "source": [
        "len(company)"
      ],
      "metadata": {
        "colab": {
          "base_uri": "https://localhost:8080/"
        },
        "id": "iyRuYLRPRbVb",
        "outputId": "0fa984f7-ff39-4031-8151-32e743820eac"
      },
      "execution_count": 16,
      "outputs": [
        {
          "output_type": "execute_result",
          "data": {
            "text/plain": [
              "30"
            ]
          },
          "metadata": {},
          "execution_count": 16
        }
      ]
    },
    {
      "cell_type": "code",
      "source": [
        "name=[]\n",
        "rating=[]\n",
        "reviews=[]\n",
        "ctype=[]\n",
        "hq=[]\n",
        "old=[]\n",
        "employees=[]\n",
        "\n",
        "for i in company:\n",
        "  name.append(i.find('h2').text.strip())\n",
        "  rating.append(i.find('p',class_='rating').text.strip())\n",
        "  reviews.append(i.find('a',class_='review-count').text.strip())\n",
        "  ctype.append(i.find_all('p',class_='infoEntity')[0].text.strip())\n",
        "  hq.append(i.find_all('p',class_='infoEntity')[1].text.strip())\n",
        "  old.append(i.find_all('p',class_='infoEntity')[2].text.strip())\n",
        "  employees.append(i.find_all('p',class_='infoEntity')[3].text.strip())"
      ],
      "metadata": {
        "id": "IivGLdmsRdhJ"
      },
      "execution_count": 23,
      "outputs": []
    },
    {
      "cell_type": "code",
      "source": [
        "d={'name':name,'rating':rating,'reviews':reviews,'type':ctype,'hq':hq,'old':old,'employees':employees}\n",
        "df=pd.DataFrame(d)"
      ],
      "metadata": {
        "id": "ZGeWX7M3SStd"
      },
      "execution_count": 25,
      "outputs": []
    },
    {
      "cell_type": "markdown",
      "source": [
        "#Executing the same for multiple pages of ambition box"
      ],
      "metadata": {
        "id": "b39ojlYqWU4Q"
      }
    },
    {
      "cell_type": "code",
      "source": [
        "final =pd.DataFrame()\n",
        "headers = {'User-Agent': \"Mozilla/5.0 (Windows NT 10.0; Win64; x64) AppleWebKit/537.36 (KHTML, like Gecko) Chrome/42.0.2311.135 Safari/537.36 Edge/12.246\"}\n",
        "for j in range(1,11):\n",
        "  url='https://www.ambitionbox.com/list-of-companies?page={}'.format(j)\n",
        "  webpage=requests.get(url,headers=headers).text\n",
        "  soup=BeautifulSoup(webpage,'lxml')\n",
        "  company=soup.find_all('div',class_='company-content-wrapper')\n",
        "  name=[]\n",
        "  rating=[]\n",
        "  reviews=[]\n",
        "  ctype=[]\n",
        "  hq=[]\n",
        "  old=[]\n",
        "  employees=[]\n",
        "\n",
        "  for i in company:\n",
        "    name.append(i.find('h2').text.strip())\n",
        "    rating.append(i.find('p',class_='rating').text.strip())\n",
        "    reviews.append(i.find('a',class_='review-count').text.strip())\n",
        "\n",
        "    try:\n",
        "      ctype.append(i.find_all('p',class_='infoEntity')[0].text.strip())\n",
        "    except:\n",
        "      ctype.append(np.nan)\n",
        "\n",
        "    try:\n",
        "      hq.append(i.find_all('p',class_='infoEntity')[1].text.strip())\n",
        "    except:\n",
        "      hq.append(np.nan)\n",
        "\n",
        "    try:\n",
        "      old.append(i.find_all('p',class_='infoEntity')[2].text.strip())\n",
        "    except:\n",
        "      old.append(np.nan)\n",
        "\n",
        "    try:\n",
        "      employees.append(i.find_all('p',class_='infoEntity')[3].text.strip())\n",
        "    except:\n",
        "      employees.append(np.nan)\n",
        "  d={'name':name,'rating':rating,'reviews':reviews,'type':ctype,'hq':hq,'old':old,'employees':employees}\n",
        "  df=pd.DataFrame(d)\n",
        "  final=final.append(df)"
      ],
      "metadata": {
        "id": "2wAzMkmnSVBm"
      },
      "execution_count": 32,
      "outputs": []
    },
    {
      "cell_type": "code",
      "source": [
        "final"
      ],
      "metadata": {
        "colab": {
          "base_uri": "https://localhost:8080/",
          "height": 424
        },
        "id": "dVKLnUOrYJli",
        "outputId": "cd496a57-6dbc-4f5b-c977-9cead2da0dce"
      },
      "execution_count": 33,
      "outputs": [
        {
          "output_type": "execute_result",
          "data": {
            "text/plain": [
              "                   name rating          reviews     type  \\\n",
              "0                   TCS    3.9  (51.1k Reviews)   Public   \n",
              "1             Accenture    4.1  (32.7k Reviews)   Public   \n",
              "2             Cognizant    3.9  (30.1k Reviews)  Private   \n",
              "3            ICICI Bank    4.0    (34k Reviews)   Public   \n",
              "4             HDFC Bank    4.0  (39.8k Reviews)   Public   \n",
              "..                  ...    ...              ...      ...   \n",
              "25        Reliance SMSL    4.1   (1.4k Reviews)   Public   \n",
              "26  Delhi Public Sch...    3.9   (1.4k Reviews)   Public   \n",
              "27         ACT Fibernet    4.1   (1.4k Reviews)  Private   \n",
              "28  Tech Mahindra Bu...    3.5   (1.4k Reviews)   Public   \n",
              "29           Micro Labs    3.8   (1.4k Reviews)  Private   \n",
              "\n",
              "                                         hq           old  \\\n",
              "0             Mumbai,Maharashtra + 271 more  55 years old   \n",
              "1                         Dublin + 131 more  34 years old   \n",
              "2           Teaneck. New Jersey. + 101 more  29 years old   \n",
              "3            Mumbai,Maharashtra + 1058 more  29 years old   \n",
              "4            Mumbai,Maharashtra + 1266 more  29 years old   \n",
              "..                                      ...           ...   \n",
              "25                        Mumbai + 365 more  16 years old   \n",
              "26   Greater Noida,Uttar Pradesh + 209 more  25 years old   \n",
              "27  Bengaluru/Bangalore,Karnataka + 37 more  23 years old   \n",
              "28             Mumbai,Maharashtra + 35 more  20 years old   \n",
              "29  Bangalore/Bengaluru,Karnataka + 96 more  50 years old   \n",
              "\n",
              "                       employees  \n",
              "0      1 Lakh+ Employees (India)  \n",
              "1      1 Lakh+ Employees (India)  \n",
              "2      1 Lakh+ Employees (India)  \n",
              "3      1 Lakh+ Employees (India)  \n",
              "4   50k-1 Lakh Employees (India)  \n",
              "..                           ...  \n",
              "25       1k-5k Employees (India)  \n",
              "26       1k-5k Employees (India)  \n",
              "27      5k-10k Employees (India)  \n",
              "28       1k-5k Employees (India)  \n",
              "29     10k-50k Employees (India)  \n",
              "\n",
              "[300 rows x 7 columns]"
            ],
            "text/html": [
              "\n",
              "  <div id=\"df-edebbf41-e99e-4a15-806a-f0de5dbf8a3a\">\n",
              "    <div class=\"colab-df-container\">\n",
              "      <div>\n",
              "<style scoped>\n",
              "    .dataframe tbody tr th:only-of-type {\n",
              "        vertical-align: middle;\n",
              "    }\n",
              "\n",
              "    .dataframe tbody tr th {\n",
              "        vertical-align: top;\n",
              "    }\n",
              "\n",
              "    .dataframe thead th {\n",
              "        text-align: right;\n",
              "    }\n",
              "</style>\n",
              "<table border=\"1\" class=\"dataframe\">\n",
              "  <thead>\n",
              "    <tr style=\"text-align: right;\">\n",
              "      <th></th>\n",
              "      <th>name</th>\n",
              "      <th>rating</th>\n",
              "      <th>reviews</th>\n",
              "      <th>type</th>\n",
              "      <th>hq</th>\n",
              "      <th>old</th>\n",
              "      <th>employees</th>\n",
              "    </tr>\n",
              "  </thead>\n",
              "  <tbody>\n",
              "    <tr>\n",
              "      <th>0</th>\n",
              "      <td>TCS</td>\n",
              "      <td>3.9</td>\n",
              "      <td>(51.1k Reviews)</td>\n",
              "      <td>Public</td>\n",
              "      <td>Mumbai,Maharashtra + 271 more</td>\n",
              "      <td>55 years old</td>\n",
              "      <td>1 Lakh+ Employees (India)</td>\n",
              "    </tr>\n",
              "    <tr>\n",
              "      <th>1</th>\n",
              "      <td>Accenture</td>\n",
              "      <td>4.1</td>\n",
              "      <td>(32.7k Reviews)</td>\n",
              "      <td>Public</td>\n",
              "      <td>Dublin + 131 more</td>\n",
              "      <td>34 years old</td>\n",
              "      <td>1 Lakh+ Employees (India)</td>\n",
              "    </tr>\n",
              "    <tr>\n",
              "      <th>2</th>\n",
              "      <td>Cognizant</td>\n",
              "      <td>3.9</td>\n",
              "      <td>(30.1k Reviews)</td>\n",
              "      <td>Private</td>\n",
              "      <td>Teaneck. New Jersey. + 101 more</td>\n",
              "      <td>29 years old</td>\n",
              "      <td>1 Lakh+ Employees (India)</td>\n",
              "    </tr>\n",
              "    <tr>\n",
              "      <th>3</th>\n",
              "      <td>ICICI Bank</td>\n",
              "      <td>4.0</td>\n",
              "      <td>(34k Reviews)</td>\n",
              "      <td>Public</td>\n",
              "      <td>Mumbai,Maharashtra + 1058 more</td>\n",
              "      <td>29 years old</td>\n",
              "      <td>1 Lakh+ Employees (India)</td>\n",
              "    </tr>\n",
              "    <tr>\n",
              "      <th>4</th>\n",
              "      <td>HDFC Bank</td>\n",
              "      <td>4.0</td>\n",
              "      <td>(39.8k Reviews)</td>\n",
              "      <td>Public</td>\n",
              "      <td>Mumbai,Maharashtra + 1266 more</td>\n",
              "      <td>29 years old</td>\n",
              "      <td>50k-1 Lakh Employees (India)</td>\n",
              "    </tr>\n",
              "    <tr>\n",
              "      <th>...</th>\n",
              "      <td>...</td>\n",
              "      <td>...</td>\n",
              "      <td>...</td>\n",
              "      <td>...</td>\n",
              "      <td>...</td>\n",
              "      <td>...</td>\n",
              "      <td>...</td>\n",
              "    </tr>\n",
              "    <tr>\n",
              "      <th>25</th>\n",
              "      <td>Reliance SMSL</td>\n",
              "      <td>4.1</td>\n",
              "      <td>(1.4k Reviews)</td>\n",
              "      <td>Public</td>\n",
              "      <td>Mumbai + 365 more</td>\n",
              "      <td>16 years old</td>\n",
              "      <td>1k-5k Employees (India)</td>\n",
              "    </tr>\n",
              "    <tr>\n",
              "      <th>26</th>\n",
              "      <td>Delhi Public Sch...</td>\n",
              "      <td>3.9</td>\n",
              "      <td>(1.4k Reviews)</td>\n",
              "      <td>Public</td>\n",
              "      <td>Greater Noida,Uttar Pradesh + 209 more</td>\n",
              "      <td>25 years old</td>\n",
              "      <td>1k-5k Employees (India)</td>\n",
              "    </tr>\n",
              "    <tr>\n",
              "      <th>27</th>\n",
              "      <td>ACT Fibernet</td>\n",
              "      <td>4.1</td>\n",
              "      <td>(1.4k Reviews)</td>\n",
              "      <td>Private</td>\n",
              "      <td>Bengaluru/Bangalore,Karnataka + 37 more</td>\n",
              "      <td>23 years old</td>\n",
              "      <td>5k-10k Employees (India)</td>\n",
              "    </tr>\n",
              "    <tr>\n",
              "      <th>28</th>\n",
              "      <td>Tech Mahindra Bu...</td>\n",
              "      <td>3.5</td>\n",
              "      <td>(1.4k Reviews)</td>\n",
              "      <td>Public</td>\n",
              "      <td>Mumbai,Maharashtra + 35 more</td>\n",
              "      <td>20 years old</td>\n",
              "      <td>1k-5k Employees (India)</td>\n",
              "    </tr>\n",
              "    <tr>\n",
              "      <th>29</th>\n",
              "      <td>Micro Labs</td>\n",
              "      <td>3.8</td>\n",
              "      <td>(1.4k Reviews)</td>\n",
              "      <td>Private</td>\n",
              "      <td>Bangalore/Bengaluru,Karnataka + 96 more</td>\n",
              "      <td>50 years old</td>\n",
              "      <td>10k-50k Employees (India)</td>\n",
              "    </tr>\n",
              "  </tbody>\n",
              "</table>\n",
              "<p>300 rows × 7 columns</p>\n",
              "</div>\n",
              "      <button class=\"colab-df-convert\" onclick=\"convertToInteractive('df-edebbf41-e99e-4a15-806a-f0de5dbf8a3a')\"\n",
              "              title=\"Convert this dataframe to an interactive table.\"\n",
              "              style=\"display:none;\">\n",
              "        \n",
              "  <svg xmlns=\"http://www.w3.org/2000/svg\" height=\"24px\"viewBox=\"0 0 24 24\"\n",
              "       width=\"24px\">\n",
              "    <path d=\"M0 0h24v24H0V0z\" fill=\"none\"/>\n",
              "    <path d=\"M18.56 5.44l.94 2.06.94-2.06 2.06-.94-2.06-.94-.94-2.06-.94 2.06-2.06.94zm-11 1L8.5 8.5l.94-2.06 2.06-.94-2.06-.94L8.5 2.5l-.94 2.06-2.06.94zm10 10l.94 2.06.94-2.06 2.06-.94-2.06-.94-.94-2.06-.94 2.06-2.06.94z\"/><path d=\"M17.41 7.96l-1.37-1.37c-.4-.4-.92-.59-1.43-.59-.52 0-1.04.2-1.43.59L10.3 9.45l-7.72 7.72c-.78.78-.78 2.05 0 2.83L4 21.41c.39.39.9.59 1.41.59.51 0 1.02-.2 1.41-.59l7.78-7.78 2.81-2.81c.8-.78.8-2.07 0-2.86zM5.41 20L4 18.59l7.72-7.72 1.47 1.35L5.41 20z\"/>\n",
              "  </svg>\n",
              "      </button>\n",
              "      \n",
              "  <style>\n",
              "    .colab-df-container {\n",
              "      display:flex;\n",
              "      flex-wrap:wrap;\n",
              "      gap: 12px;\n",
              "    }\n",
              "\n",
              "    .colab-df-convert {\n",
              "      background-color: #E8F0FE;\n",
              "      border: none;\n",
              "      border-radius: 50%;\n",
              "      cursor: pointer;\n",
              "      display: none;\n",
              "      fill: #1967D2;\n",
              "      height: 32px;\n",
              "      padding: 0 0 0 0;\n",
              "      width: 32px;\n",
              "    }\n",
              "\n",
              "    .colab-df-convert:hover {\n",
              "      background-color: #E2EBFA;\n",
              "      box-shadow: 0px 1px 2px rgba(60, 64, 67, 0.3), 0px 1px 3px 1px rgba(60, 64, 67, 0.15);\n",
              "      fill: #174EA6;\n",
              "    }\n",
              "\n",
              "    [theme=dark] .colab-df-convert {\n",
              "      background-color: #3B4455;\n",
              "      fill: #D2E3FC;\n",
              "    }\n",
              "\n",
              "    [theme=dark] .colab-df-convert:hover {\n",
              "      background-color: #434B5C;\n",
              "      box-shadow: 0px 1px 3px 1px rgba(0, 0, 0, 0.15);\n",
              "      filter: drop-shadow(0px 1px 2px rgba(0, 0, 0, 0.3));\n",
              "      fill: #FFFFFF;\n",
              "    }\n",
              "  </style>\n",
              "\n",
              "      <script>\n",
              "        const buttonEl =\n",
              "          document.querySelector('#df-edebbf41-e99e-4a15-806a-f0de5dbf8a3a button.colab-df-convert');\n",
              "        buttonEl.style.display =\n",
              "          google.colab.kernel.accessAllowed ? 'block' : 'none';\n",
              "\n",
              "        async function convertToInteractive(key) {\n",
              "          const element = document.querySelector('#df-edebbf41-e99e-4a15-806a-f0de5dbf8a3a');\n",
              "          const dataTable =\n",
              "            await google.colab.kernel.invokeFunction('convertToInteractive',\n",
              "                                                     [key], {});\n",
              "          if (!dataTable) return;\n",
              "\n",
              "          const docLinkHtml = 'Like what you see? Visit the ' +\n",
              "            '<a target=\"_blank\" href=https://colab.research.google.com/notebooks/data_table.ipynb>data table notebook</a>'\n",
              "            + ' to learn more about interactive tables.';\n",
              "          element.innerHTML = '';\n",
              "          dataTable['output_type'] = 'display_data';\n",
              "          await google.colab.output.renderOutput(dataTable, element);\n",
              "          const docLink = document.createElement('div');\n",
              "          docLink.innerHTML = docLinkHtml;\n",
              "          element.appendChild(docLink);\n",
              "        }\n",
              "      </script>\n",
              "    </div>\n",
              "  </div>\n",
              "  "
            ]
          },
          "metadata": {},
          "execution_count": 33
        }
      ]
    },
    {
      "cell_type": "code",
      "source": [],
      "metadata": {
        "id": "SBIJQJtcamfH"
      },
      "execution_count": null,
      "outputs": []
    }
  ]
}