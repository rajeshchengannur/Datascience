{
  "nbformat": 4,
  "nbformat_minor": 0,
  "metadata": {
    "colab": {
      "provenance": [],
      "include_colab_link": true
    },
    "kernelspec": {
      "name": "python3",
      "display_name": "Python 3"
    },
    "language_info": {
      "name": "python"
    }
  },
  "cells": [
    {
      "cell_type": "markdown",
      "metadata": {
        "id": "view-in-github",
        "colab_type": "text"
      },
      "source": [
        "<a href=\"https://colab.research.google.com/github/rajeshchengannur/Datascience/blob/master/session_7_task.ipynb\" target=\"_parent\"><img src=\"https://colab.research.google.com/assets/colab-badge.svg\" alt=\"Open In Colab\"/></a>"
      ]
    },
    {
      "cell_type": "markdown",
      "source": [
        "##`Q-1:` Rectangle Class\n",
        "1. Write a Rectangle class in Python language, allowing you to build a rectangle with length and width attributes.\n",
        "\n",
        "2. Create a Perimeter() method to calculate the perimeter of the rectangle and a Area() method to calculate the area of ​​the rectangle.\n",
        "\n",
        "3. Create a method display() that display the length, width, perimeter and area of an object created using an instantiation on rectangle class."
      ],
      "metadata": {
        "id": "FyUJ3PRAsPr4"
      }
    },
    {
      "cell_type": "markdown",
      "source": [
        "Eg.\n",
        "After making above classes and methods, on executing below code:-\n",
        "```\n",
        "my_rectangle = Rectangle(3 , 4)\n",
        "my_rectangle.display()\n",
        "```\n",
        "\n",
        "`Output:`\n",
        "```\n",
        "The length of rectangle is:  3\n",
        "The width of rectangle is:  4\n",
        "The perimeter of rectangle is:  14\n",
        "The area of rectangle is:  12\n",
        "```\n"
      ],
      "metadata": {
        "id": "GxUtOqJfssFK"
      }
    },
    {
      "cell_type": "code",
      "source": [
        "# write your code here\n",
        "class Rectangle:\n",
        "  #Constructor\n",
        "  def __init__(self,l,b):\n",
        "    self.__length=l\n",
        "    self.__bredth=b\n",
        "  def __perimeter(self):\n",
        "    return 2*(self.__length + self.__bredth)\n",
        "  def __area(self):\n",
        "    return self.__length*self.__bredth\n",
        "  def display(self):\n",
        "    print('The length of the rectangle is :' ,self.__length)\n",
        "    print('The width of the rectangle is :' ,self.__bredth)\n",
        "    print('The perimeter of the rectangle is ', self.__perimeter())\n",
        "    print('The area of the rectangle is ',self.__area())\n",
        "\n",
        "obj = Rectangle(5,3)\n",
        "obj.display()"
      ],
      "metadata": {
        "id": "92_QT-Uj6NBg",
        "outputId": "39706914-2db6-45c6-d95c-81d7b6836e69",
        "colab": {
          "base_uri": "https://localhost:8080/"
        }
      },
      "execution_count": 33,
      "outputs": [
        {
          "output_type": "stream",
          "name": "stdout",
          "text": [
            "The length of the rectangle is : 5\n",
            "The width of the rectangle is : 3\n",
            "The perimeter of the rectangle is  16\n",
            "The area of the rectangle is  15\n"
          ]
        }
      ]
    },
    {
      "cell_type": "markdown",
      "source": [
        "##`Q-2: Bank Class`\n",
        "\n",
        "1. Create a Python class called `BankAccount` which represents a bank account, having as attributes: `accountNumber` (numeric type), `name` (name of the account owner as string type), `balance`.\n",
        "2. Create a constructor with parameters: `accountNumber, name, balance`.\n",
        "3. Create a `Deposit()` method which manages the deposit actions.\n",
        "4. Create a `Withdrawal()` method  which manages withdrawals actions.\n",
        "5. Create an `bankFees()` method to apply the bank fees with a percentage of 5% of the balance account.\n",
        "6. Create a `display()` method to display account details.\n",
        "Give the complete code for the  BankAccount class."
      ],
      "metadata": {
        "id": "r_GxrS0Vrdom"
      }
    },
    {
      "cell_type": "markdown",
      "source": [
        "Eg.\n",
        "After making above classes and methods, on executing below code:-\n",
        "```\n",
        "newAccount = BankAccount(2178514584, \"Mandy\" , 2800)\n",
        "\n",
        "newAccount.Withdrawal(700)\n",
        "\n",
        "newAccount.Deposit(1000)\n",
        "\n",
        "newAccount.display()\n",
        "```\n",
        "\n",
        "`Output:`\n",
        "```\n",
        "Account Number :  2178514584\n",
        "Account Name :  Mandy\n",
        "Account Balance :  3100 ₹\n",
        "```"
      ],
      "metadata": {
        "id": "qvVkOUJgvTV_"
      }
    },
    {
      "cell_type": "code",
      "source": [
        "# write your code here\n",
        "class BankAccount:\n",
        "  def __init__(self,accno,name,balance):\n",
        "    self.accountnumber = accno\n",
        "    self.name = name\n",
        "    self.balance = balance\n",
        "  \n",
        "  def deposit(self,deposit):\n",
        "    accno = int(input('Enter account number'))\n",
        "    if (accno == self.accountnumber):\n",
        "      self.balance = self.balance + deposit\n",
        "  def Withdrawal(self,withdrawamt):\n",
        "    accno = int(input('Enter account number'))\n",
        "    if (self.accountnumber==accno):\n",
        "      if withdrawamt <= self.balance:\n",
        "        print('You have withdrawn Rs :',withdrawamt)\n",
        "        self.balance = self.balance - withdrawamt\n",
        "      else:\n",
        "        print('Insufficient balance')\n",
        "  def display(self):\n",
        "    print('Account Number : ',self.accountnumber)\n",
        "    print('Account Name :  ',self.name)\n",
        "    print('Account Balance :  ',self.balance,'₹')\n"
      ],
      "metadata": {
        "id": "fUQOmQyA6YDR"
      },
      "execution_count": 26,
      "outputs": []
    },
    {
      "cell_type": "code",
      "source": [
        "newAccount = BankAccount(2178514584, \"Mandy\" , 2800)"
      ],
      "metadata": {
        "id": "wd-80wyKKAcb"
      },
      "execution_count": 27,
      "outputs": []
    },
    {
      "cell_type": "code",
      "source": [
        "newAccount.Withdrawal(700)"
      ],
      "metadata": {
        "id": "yvxEQdZGKdzl",
        "outputId": "067ad430-933d-4cb6-f828-5517ea8311f3",
        "colab": {
          "base_uri": "https://localhost:8080/"
        }
      },
      "execution_count": 28,
      "outputs": [
        {
          "output_type": "stream",
          "name": "stdout",
          "text": [
            "Enter account number2178514584\n",
            "You have withdrawn Rs : 700\n"
          ]
        }
      ]
    },
    {
      "cell_type": "code",
      "source": [
        "newAccount.deposit(1000)"
      ],
      "metadata": {
        "id": "AG7XHuAZMymH",
        "outputId": "3aa54f3a-f62b-4cc4-fc6e-b260c6bd8000",
        "colab": {
          "base_uri": "https://localhost:8080/"
        }
      },
      "execution_count": 29,
      "outputs": [
        {
          "name": "stdout",
          "output_type": "stream",
          "text": [
            "Enter account number2178514584\n"
          ]
        }
      ]
    },
    {
      "cell_type": "code",
      "source": [
        "newAccount.display()"
      ],
      "metadata": {
        "id": "akoTkflXMA3M",
        "outputId": "94c44a1d-9a41-4361-c9b8-f4aaf481e494",
        "colab": {
          "base_uri": "https://localhost:8080/"
        }
      },
      "execution_count": 30,
      "outputs": [
        {
          "output_type": "stream",
          "name": "stdout",
          "text": [
            "Account Number :  2178514584\n",
            "Account Name :   Mandy\n",
            "Account Balance :   3100 ₹\n"
          ]
        }
      ]
    },
    {
      "cell_type": "markdown",
      "source": [
        "##`Q-3:Computation class`\n",
        "\n",
        "1. Create a `Computation` class with a default constructor (without parameters) allowing to perform various calculations on integers numbers.\n",
        "2. Create a method called `Factorial()` which allows to calculate the factorial of an integer n. Integer n as parameter for this method\n",
        "\n",
        "3. Create a method called `naturalSum()` allowing to calculate the sum of the first n integers 1 + 2 + 3 + .. + n. Integer n as parameter for this method.\n",
        "\n",
        "4. Create a method called `testPrime()` in  the Calculation class to test the primality of a given integer n, n is Prime or Not? Integer n as parameter for this method.\n",
        "\n",
        "5. Create  a method called `testPrims()` allowing to test if two numbers are prime between them. Two integers are prime to one another if they have only `1` as their common divisor. Eg. 4 and 9 are prime to each other.\n",
        "\n",
        "5. Create a `tableMult()` method which creates and displays the multiplication table of a given integer. Then create an `allTablesMult()` method to display all the integer multiplication tables 1, 2, 3, ..., 9.\n",
        "\n",
        "6. Create a static `listDiv()` method that gets all the divisors of a given integer on new list called  Ldiv. Create another `listDivPrim()` method that gets all the prime divisors of a given integer."
      ],
      "metadata": {
        "id": "QovcQAZTrgGU"
      }
    },
    {
      "cell_type": "code",
      "source": [
        "# write your code here"
      ],
      "metadata": {
        "id": "YEkPH70l6Z-o"
      },
      "execution_count": null,
      "outputs": []
    },
    {
      "cell_type": "markdown",
      "source": [
        "##`Q-4`: Build flashcard using class in Python.\n",
        "\n",
        "Build a flashcard using class in python. A flashcard is a card having information on both sides, which can be used as an aid in memoization. Flashcards usually have a question on one side and an answer on the other.\n",
        "\n",
        "**Example 1:**\n",
        "\n",
        "Approach:\n",
        "\n",
        "- Create a class named FlashCard.\n",
        "- Initialize dictionary fruits using __init__() method. Here you have to define fruit name as key and it's color as value. E.g., {\"Banana\": \"yellow\", \"Strawberries\": \"pink\"}\n",
        "- Now randomly choose a pair from fruits by using _random_ module and store the key in variable _fruit_ and _value_ in variable color.\n",
        "- Now prompt the user to answer the color of the randomly chosen fruit.\n",
        "- If correct print correct else print wrong.\n",
        "\n",
        "Output:\n",
        "```bash\n",
        "welcome to fruit quiz\n",
        "What is the color of Strawberries\n",
        "pink\n",
        "Correct answer\n",
        "Enter 0, if you want to play again: 0\n",
        "What is the color of watermelon\n",
        "green\n",
        "Correct answer\n",
        "Enter 0, if you want to play again: 1\n",
        "```"
      ],
      "metadata": {
        "id": "0yn23_oEriXa"
      }
    },
    {
      "cell_type": "code",
      "source": [
        "# write your code here\n",
        "import random\n",
        "class FlashCard:\n",
        "  def __init__(self):\n",
        "    self.__fruits = {\n",
        "        'apple' :'red',\n",
        "        'gauva' :'green',\n",
        "        'watermelon':'green',\n",
        "        'banana':'yellow',\n",
        "        'strawberry':'pink'\n",
        "    }\n",
        "\n",
        "  def quiz(self):\n",
        "    while True:\n",
        "      fruit,color = random.choices(list(self.__fruits.items()))[0]\n",
        "      print('what is the color of {}'.format(fruit))\n",
        "      user_ans=input()\n",
        "      if user_ans.lower() == color:\n",
        "        print('Correct Answer')\n",
        "      else:\n",
        "        print('Wrong answer')\n",
        "\n",
        "      option = int(input('Enter 0 to play again , 1 to exit : ')) \n",
        "      if option ==1:\n",
        "        break\n",
        "      \n",
        "\n"
      ],
      "metadata": {
        "id": "vCrUF6VU6l6w"
      },
      "execution_count": 5,
      "outputs": []
    },
    {
      "cell_type": "code",
      "source": [
        "print('Welcome to FlashCard')\n",
        "fc = FlashCard()\n",
        "fc.quiz()"
      ],
      "metadata": {
        "id": "p8igsVajpEX1",
        "outputId": "c0e1b468-c5ab-4a55-b0a0-3e7f4f5a4c30",
        "colab": {
          "base_uri": "https://localhost:8080/"
        }
      },
      "execution_count": 7,
      "outputs": [
        {
          "name": "stdout",
          "output_type": "stream",
          "text": [
            "Welcome to FlashCard\n",
            "what is the color of watermelon\n",
            "blue\n",
            "Wrong answer\n",
            "Enter 0 to play again , 1 to exit : 0\n",
            "what is the color of banana\n",
            "yellow\n",
            "Correct Answer\n",
            "Enter 0 to play again , 1 to exit : 1\n"
          ]
        }
      ]
    },
    {
      "cell_type": "code",
      "source": [],
      "metadata": {
        "id": "a99SMk6Nn9OY"
      },
      "execution_count": null,
      "outputs": []
    },
    {
      "cell_type": "markdown",
      "source": [
        "## `Q-5:` Problem 5 based on OOP Python.\n",
        "\n",
        "TechWorld, a technology training center, wants to allocate courses for instructors. An instructor is identified by name, technology skills, experience and average feedback. An instructor is allocated a course, if he/she satisfies the below two conditions:\n",
        "- eligibility criteria:\n",
        "    - if experience is more than 3 years, average feedback should be 4.5 or more\n",
        "    - if experience is 3 years or less, average feedback should be 4 or more\n",
        "- he/she should posses the technology skill for the course\n",
        "\n",
        "Identify the class name and attributes to represent instructors. Write a Python program to implement the class chosen with its attributes and methods.\n",
        "\n",
        "**Note:**\n",
        "- Consider all instance variables to be private and methods to be public.\n",
        "- An instructor may have multiple technology skills, so consider instance variable, technology_skill to be a list.\n",
        "- *check_eligibility()*: Return true if eligibility criteria is satisfied by the instructor. Else, return false\n",
        "- *allocate_course(technology)*: Return true if the course which requires the given technology can be allocated to the instructor. Else, return false.\n",
        "\n",
        "Represent a few objects of the class, initialize instance variables using setter methods, invoke\n",
        "appropriate methods and test your program."
      ],
      "metadata": {
        "id": "GN2r0jbRewYr"
      }
    },
    {
      "cell_type": "code",
      "source": [
        "# write your code here\n",
        "class Instructor:\n",
        "  def __init__(self,name,technology,experience,feedback):\n",
        "    self.__name = name\n",
        "    self.__technology =technology\n",
        "    self.__experience = experience\n",
        "    self.__feedback = feedback\n",
        "  \n",
        "  def check_eligibility(self):\n",
        "    if self.__experience > 3 and self.__feedback >4.5:\n",
        "      return True\n",
        "    elif self.__experience <=3 and self.__feedback > 4:\n",
        "      return True\n",
        "    else:\n",
        "      return False\n",
        "  \n",
        "  def allocate_course(self,tech):\n",
        "    is_eligible = self.check_eligibility()\n",
        "    if is_eligible:\n",
        "      if tech in self.__technology:\n",
        "        return 'Can be allocated'\n",
        "      else:\n",
        "        return 'Not allocated'\n",
        "    else:\n",
        "      return 'Not eligible'\n",
        "\n",
        "inst =Instructor('Rajesh',['python','c++'],10,4)\n"
      ],
      "metadata": {
        "id": "pdMFuVFnlvKL"
      },
      "execution_count": 10,
      "outputs": []
    },
    {
      "cell_type": "code",
      "source": [
        "inst.allocate_course('python')"
      ],
      "metadata": {
        "id": "R7lOwy9YrBnB",
        "outputId": "985b6141-cada-459a-affa-255cf82fb7f0",
        "colab": {
          "base_uri": "https://localhost:8080/",
          "height": 35
        }
      },
      "execution_count": 11,
      "outputs": [
        {
          "output_type": "execute_result",
          "data": {
            "text/plain": [
              "'Not eligible'"
            ],
            "application/vnd.google.colaboratory.intrinsic+json": {
              "type": "string"
            }
          },
          "metadata": {},
          "execution_count": 11
        }
      ]
    },
    {
      "cell_type": "code",
      "source": [
        "inst1 =Instructor('Rajesh',['python','c++'],3,4.5)\n",
        "inst1.allocate_course('python')"
      ],
      "metadata": {
        "id": "51SghIiwu_ef",
        "outputId": "c60510f4-3984-41f4-cd99-5e02caa25082",
        "colab": {
          "base_uri": "https://localhost:8080/",
          "height": 35
        }
      },
      "execution_count": 12,
      "outputs": [
        {
          "output_type": "execute_result",
          "data": {
            "text/plain": [
              "'Can be allocated'"
            ],
            "application/vnd.google.colaboratory.intrinsic+json": {
              "type": "string"
            }
          },
          "metadata": {},
          "execution_count": 12
        }
      ]
    },
    {
      "cell_type": "code",
      "source": [],
      "metadata": {
        "id": "S4Bjku9hvWA6"
      },
      "execution_count": null,
      "outputs": []
    }
  ]
}