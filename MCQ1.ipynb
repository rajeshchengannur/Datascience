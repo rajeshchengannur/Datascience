{
  "nbformat": 4,
  "nbformat_minor": 0,
  "metadata": {
    "colab": {
      "provenance": [],
      "authorship_tag": "ABX9TyM+BvZG7+DOF+XU4CvmttxN",
      "include_colab_link": true
    },
    "kernelspec": {
      "name": "python3",
      "display_name": "Python 3"
    },
    "language_info": {
      "name": "python"
    }
  },
  "cells": [
    {
      "cell_type": "markdown",
      "metadata": {
        "id": "view-in-github",
        "colab_type": "text"
      },
      "source": [
        "<a href=\"https://colab.research.google.com/github/rajeshchengannur/Datascience/blob/master/MCQ1.ipynb\" target=\"_parent\"><img src=\"https://colab.research.google.com/assets/colab-badge.svg\" alt=\"Open In Colab\"/></a>"
      ]
    },
    {
      "cell_type": "code",
      "execution_count": 2,
      "metadata": {
        "id": "qjpCastkrs6T"
      },
      "outputs": [],
      "source": [
        "def fun(num):\n",
        "  if num<2:\n",
        "    return 1;\n",
        "  elif (num/2 ==2):\n",
        "    return fun(num-1)\n",
        "  else:\n",
        "    return (num-1)*fun(num-1)"
      ]
    },
    {
      "cell_type": "code",
      "source": [
        "print(fun(7))"
      ],
      "metadata": {
        "colab": {
          "base_uri": "https://localhost:8080/"
        },
        "id": "Yh6uykXasH_2",
        "outputId": "45edfbb7-2994-4bc8-ee8c-7a273620ee6d"
      },
      "execution_count": 3,
      "outputs": [
        {
          "output_type": "stream",
          "name": "stdout",
          "text": [
            "240\n"
          ]
        }
      ]
    },
    {
      "cell_type": "code",
      "source": [
        "def foo(i,x=[]):\n",
        "  x.append(x.append(i))\n",
        "  return x\n",
        "for i in range(3):\n",
        "  y=foo(i)\n",
        "print(y)"
      ],
      "metadata": {
        "colab": {
          "base_uri": "https://localhost:8080/"
        },
        "id": "oXw9JEbnsTZZ",
        "outputId": "a831a932-6a1d-44e9-e7a9-5ca7ace9a8c7"
      },
      "execution_count": 4,
      "outputs": [
        {
          "output_type": "stream",
          "name": "stdout",
          "text": [
            "[0, None, 1, None, 2, None]\n"
          ]
        }
      ]
    },
    {
      "cell_type": "code",
      "source": [
        "def foo(x):\n",
        "  x[0]='def'\n",
        "  x[1]='abc'\n",
        "  return id(x)\n",
        "q=['abc','def']\n",
        "print(id(q)==foo(q))"
      ],
      "metadata": {
        "colab": {
          "base_uri": "https://localhost:8080/"
        },
        "id": "Xd8y78XSsuZ0",
        "outputId": "b7b92e62-b1ce-4373-c455-aa9d069ffdf8"
      },
      "execution_count": 6,
      "outputs": [
        {
          "output_type": "stream",
          "name": "stdout",
          "text": [
            "True\n"
          ]
        }
      ]
    },
    {
      "cell_type": "code",
      "source": [
        "a=[1,2,3,4,5]\n",
        "b=lambda x:(b(x[1:]+x[:1] if x else []))\n",
        "print(b(a))"
      ],
      "metadata": {
        "colab": {
          "base_uri": "https://localhost:8080/",
          "height": 346
        },
        "id": "6Md6ZTbktTLi",
        "outputId": "a472860d-54c7-4693-8c8d-951a1c00a1f1"
      },
      "execution_count": 8,
      "outputs": [
        {
          "output_type": "error",
          "ename": "RecursionError",
          "evalue": "ignored",
          "traceback": [
            "\u001b[0;31m---------------------------------------------------------------------------\u001b[0m",
            "\u001b[0;31mRecursionError\u001b[0m                            Traceback (most recent call last)",
            "\u001b[0;32m<ipython-input-8-15926b2bcf27>\u001b[0m in \u001b[0;36m<module>\u001b[0;34m\u001b[0m\n\u001b[1;32m      1\u001b[0m \u001b[0ma\u001b[0m\u001b[0;34m=\u001b[0m\u001b[0;34m[\u001b[0m\u001b[0;36m1\u001b[0m\u001b[0;34m,\u001b[0m\u001b[0;36m2\u001b[0m\u001b[0;34m,\u001b[0m\u001b[0;36m3\u001b[0m\u001b[0;34m,\u001b[0m\u001b[0;36m4\u001b[0m\u001b[0;34m,\u001b[0m\u001b[0;36m5\u001b[0m\u001b[0;34m]\u001b[0m\u001b[0;34m\u001b[0m\u001b[0;34m\u001b[0m\u001b[0m\n\u001b[1;32m      2\u001b[0m \u001b[0mb\u001b[0m\u001b[0;34m=\u001b[0m\u001b[0;32mlambda\u001b[0m \u001b[0mx\u001b[0m\u001b[0;34m:\u001b[0m\u001b[0;34m(\u001b[0m\u001b[0mb\u001b[0m\u001b[0;34m(\u001b[0m\u001b[0mx\u001b[0m\u001b[0;34m[\u001b[0m\u001b[0;36m1\u001b[0m\u001b[0;34m:\u001b[0m\u001b[0;34m]\u001b[0m\u001b[0;34m+\u001b[0m\u001b[0mx\u001b[0m\u001b[0;34m[\u001b[0m\u001b[0;34m:\u001b[0m\u001b[0;36m1\u001b[0m\u001b[0;34m]\u001b[0m \u001b[0;32mif\u001b[0m \u001b[0mx\u001b[0m \u001b[0;32melse\u001b[0m \u001b[0;34m[\u001b[0m\u001b[0;34m]\u001b[0m\u001b[0;34m)\u001b[0m\u001b[0;34m)\u001b[0m\u001b[0;34m\u001b[0m\u001b[0;34m\u001b[0m\u001b[0m\n\u001b[0;32m----> 3\u001b[0;31m \u001b[0mprint\u001b[0m\u001b[0;34m(\u001b[0m\u001b[0mb\u001b[0m\u001b[0;34m(\u001b[0m\u001b[0ma\u001b[0m\u001b[0;34m)\u001b[0m\u001b[0;34m)\u001b[0m\u001b[0;34m\u001b[0m\u001b[0;34m\u001b[0m\u001b[0m\n\u001b[0m",
            "\u001b[0;32m<ipython-input-8-15926b2bcf27>\u001b[0m in \u001b[0;36m<lambda>\u001b[0;34m(x)\u001b[0m\n\u001b[1;32m      1\u001b[0m \u001b[0ma\u001b[0m\u001b[0;34m=\u001b[0m\u001b[0;34m[\u001b[0m\u001b[0;36m1\u001b[0m\u001b[0;34m,\u001b[0m\u001b[0;36m2\u001b[0m\u001b[0;34m,\u001b[0m\u001b[0;36m3\u001b[0m\u001b[0;34m,\u001b[0m\u001b[0;36m4\u001b[0m\u001b[0;34m,\u001b[0m\u001b[0;36m5\u001b[0m\u001b[0;34m]\u001b[0m\u001b[0;34m\u001b[0m\u001b[0;34m\u001b[0m\u001b[0m\n\u001b[0;32m----> 2\u001b[0;31m \u001b[0mb\u001b[0m\u001b[0;34m=\u001b[0m\u001b[0;32mlambda\u001b[0m \u001b[0mx\u001b[0m\u001b[0;34m:\u001b[0m\u001b[0;34m(\u001b[0m\u001b[0mb\u001b[0m\u001b[0;34m(\u001b[0m\u001b[0mx\u001b[0m\u001b[0;34m[\u001b[0m\u001b[0;36m1\u001b[0m\u001b[0;34m:\u001b[0m\u001b[0;34m]\u001b[0m\u001b[0;34m+\u001b[0m\u001b[0mx\u001b[0m\u001b[0;34m[\u001b[0m\u001b[0;34m:\u001b[0m\u001b[0;36m1\u001b[0m\u001b[0;34m]\u001b[0m \u001b[0;32mif\u001b[0m \u001b[0mx\u001b[0m \u001b[0;32melse\u001b[0m \u001b[0;34m[\u001b[0m\u001b[0;34m]\u001b[0m\u001b[0;34m)\u001b[0m\u001b[0;34m)\u001b[0m\u001b[0;34m\u001b[0m\u001b[0;34m\u001b[0m\u001b[0m\n\u001b[0m\u001b[1;32m      3\u001b[0m \u001b[0mprint\u001b[0m\u001b[0;34m(\u001b[0m\u001b[0mb\u001b[0m\u001b[0;34m(\u001b[0m\u001b[0ma\u001b[0m\u001b[0;34m)\u001b[0m\u001b[0;34m)\u001b[0m\u001b[0;34m\u001b[0m\u001b[0;34m\u001b[0m\u001b[0m\n",
            "... last 1 frames repeated, from the frame below ...\n",
            "\u001b[0;32m<ipython-input-8-15926b2bcf27>\u001b[0m in \u001b[0;36m<lambda>\u001b[0;34m(x)\u001b[0m\n\u001b[1;32m      1\u001b[0m \u001b[0ma\u001b[0m\u001b[0;34m=\u001b[0m\u001b[0;34m[\u001b[0m\u001b[0;36m1\u001b[0m\u001b[0;34m,\u001b[0m\u001b[0;36m2\u001b[0m\u001b[0;34m,\u001b[0m\u001b[0;36m3\u001b[0m\u001b[0;34m,\u001b[0m\u001b[0;36m4\u001b[0m\u001b[0;34m,\u001b[0m\u001b[0;36m5\u001b[0m\u001b[0;34m]\u001b[0m\u001b[0;34m\u001b[0m\u001b[0;34m\u001b[0m\u001b[0m\n\u001b[0;32m----> 2\u001b[0;31m \u001b[0mb\u001b[0m\u001b[0;34m=\u001b[0m\u001b[0;32mlambda\u001b[0m \u001b[0mx\u001b[0m\u001b[0;34m:\u001b[0m\u001b[0;34m(\u001b[0m\u001b[0mb\u001b[0m\u001b[0;34m(\u001b[0m\u001b[0mx\u001b[0m\u001b[0;34m[\u001b[0m\u001b[0;36m1\u001b[0m\u001b[0;34m:\u001b[0m\u001b[0;34m]\u001b[0m\u001b[0;34m+\u001b[0m\u001b[0mx\u001b[0m\u001b[0;34m[\u001b[0m\u001b[0;34m:\u001b[0m\u001b[0;36m1\u001b[0m\u001b[0;34m]\u001b[0m \u001b[0;32mif\u001b[0m \u001b[0mx\u001b[0m \u001b[0;32melse\u001b[0m \u001b[0;34m[\u001b[0m\u001b[0;34m]\u001b[0m\u001b[0;34m)\u001b[0m\u001b[0;34m)\u001b[0m\u001b[0;34m\u001b[0m\u001b[0;34m\u001b[0m\u001b[0m\n\u001b[0m\u001b[1;32m      3\u001b[0m \u001b[0mprint\u001b[0m\u001b[0;34m(\u001b[0m\u001b[0mb\u001b[0m\u001b[0;34m(\u001b[0m\u001b[0ma\u001b[0m\u001b[0;34m)\u001b[0m\u001b[0;34m)\u001b[0m\u001b[0;34m\u001b[0m\u001b[0;34m\u001b[0m\u001b[0m\n",
            "\u001b[0;31mRecursionError\u001b[0m: maximum recursion depth exceeded"
          ]
        }
      ]
    },
    {
      "cell_type": "code",
      "source": [
        "sample_dict={'a':1,'b':2}\n",
        "sample_dict.update ({'b':5,'c':10})\n",
        "print(sample_dict.get('a'),sample_dict.get('b'),sample_dict.get('c'))"
      ],
      "metadata": {
        "colab": {
          "base_uri": "https://localhost:8080/"
        },
        "id": "sxwMn_gdt0PQ",
        "outputId": "ed9c7eca-991f-4ee8-a17f-5be18dfc61df"
      },
      "execution_count": 12,
      "outputs": [
        {
          "output_type": "stream",
          "name": "stdout",
          "text": [
            "1 5 10\n"
          ]
        }
      ]
    },
    {
      "cell_type": "code",
      "source": [
        "li=[1,2,3,4,3]\n",
        "def fun(x):\n",
        "  return lambda x: 2*x\n",
        "x=list(map(fun,li))\n",
        "for i in range(5):\n",
        "  p=sum(x[i](li[i:-1]))\n",
        "  print(p)\n"
      ],
      "metadata": {
        "colab": {
          "base_uri": "https://localhost:8080/"
        },
        "id": "qpLD5dmRwSdC",
        "outputId": "94c58154-7418-4dc0-d388-15fbd2b3533b"
      },
      "execution_count": 14,
      "outputs": [
        {
          "output_type": "stream",
          "name": "stdout",
          "text": [
            "20\n",
            "18\n",
            "14\n",
            "8\n",
            "0\n"
          ]
        }
      ]
    },
    {
      "cell_type": "code",
      "source": [
        "class sales:\n",
        "  def __init__(self,id):\n",
        "    self.id=id\n",
        "    id =100\n",
        "\n",
        "val =sales(123)\n",
        "print(val.id)"
      ],
      "metadata": {
        "colab": {
          "base_uri": "https://localhost:8080/"
        },
        "id": "BC6qT39Z1YHV",
        "outputId": "b967854e-9bdf-4818-d2da-ca06fcbabf37"
      },
      "execution_count": 16,
      "outputs": [
        {
          "output_type": "stream",
          "name": "stdout",
          "text": [
            "123\n"
          ]
        }
      ]
    },
    {
      "cell_type": "code",
      "source": [
        "a=[1,2,3]\n",
        "b=a\n",
        "a.pop()\n",
        "a.append(10)\n",
        "print(b[int('0011',2)])"
      ],
      "metadata": {
        "colab": {
          "base_uri": "https://localhost:8080/",
          "height": 201
        },
        "id": "TlArmrPH1-Nj",
        "outputId": "6b43128f-05ff-4ea4-9ca2-69e3946335bb"
      },
      "execution_count": 17,
      "outputs": [
        {
          "output_type": "error",
          "ename": "IndexError",
          "evalue": "ignored",
          "traceback": [
            "\u001b[0;31m---------------------------------------------------------------------------\u001b[0m",
            "\u001b[0;31mIndexError\u001b[0m                                Traceback (most recent call last)",
            "\u001b[0;32m<ipython-input-17-8eed9a4d86ba>\u001b[0m in \u001b[0;36m<module>\u001b[0;34m\u001b[0m\n\u001b[1;32m      3\u001b[0m \u001b[0ma\u001b[0m\u001b[0;34m.\u001b[0m\u001b[0mpop\u001b[0m\u001b[0;34m(\u001b[0m\u001b[0;34m)\u001b[0m\u001b[0;34m\u001b[0m\u001b[0;34m\u001b[0m\u001b[0m\n\u001b[1;32m      4\u001b[0m \u001b[0ma\u001b[0m\u001b[0;34m.\u001b[0m\u001b[0mappend\u001b[0m\u001b[0;34m(\u001b[0m\u001b[0;36m10\u001b[0m\u001b[0;34m)\u001b[0m\u001b[0;34m\u001b[0m\u001b[0;34m\u001b[0m\u001b[0m\n\u001b[0;32m----> 5\u001b[0;31m \u001b[0mprint\u001b[0m\u001b[0;34m(\u001b[0m\u001b[0mb\u001b[0m\u001b[0;34m[\u001b[0m\u001b[0mint\u001b[0m\u001b[0;34m(\u001b[0m\u001b[0;34m'0011'\u001b[0m\u001b[0;34m,\u001b[0m\u001b[0;36m2\u001b[0m\u001b[0;34m)\u001b[0m\u001b[0;34m]\u001b[0m\u001b[0;34m)\u001b[0m\u001b[0;34m\u001b[0m\u001b[0;34m\u001b[0m\u001b[0m\n\u001b[0m",
            "\u001b[0;31mIndexError\u001b[0m: list index out of range"
          ]
        }
      ]
    },
    {
      "cell_type": "code",
      "source": [
        "def double(func):\n",
        "    def func1(*args):\n",
        "        return 2*func(*args)\n",
        "    return func1\n",
        "\n",
        "@double\n",
        "def lcm(a, b):\n",
        "    if b==0:\n",
        "        return a\n",
        "    return lcm(b, a%b)"
      ],
      "metadata": {
        "id": "6-4NwEdA26rK"
      },
      "execution_count": 18,
      "outputs": []
    },
    {
      "cell_type": "code",
      "source": [
        "lcm(2,3)"
      ],
      "metadata": {
        "colab": {
          "base_uri": "https://localhost:8080/"
        },
        "id": "i8v5Y8bO3fV7",
        "outputId": "c4e461e3-7af7-49a7-bd20-1f28087154b3"
      },
      "execution_count": 19,
      "outputs": [
        {
          "output_type": "execute_result",
          "data": {
            "text/plain": [
              "16"
            ]
          },
          "metadata": {},
          "execution_count": 19
        }
      ]
    },
    {
      "cell_type": "code",
      "source": [
        "from functools import reduce\n",
        "\n",
        "li = [5, 8, 13, 20, 100, 50]\n",
        "li.sort(reverse=True)\n",
        "div5_4 = lambda x : x%5==0 or x%4==0\n",
        "li = list(filter(div5_4, li))\n",
        "x = reduce(lambda x,y:x+y, li)\n",
        "x = li.sum() - x"
      ],
      "metadata": {
        "colab": {
          "base_uri": "https://localhost:8080/",
          "height": 201
        },
        "id": "ZrWQMqLI3iiZ",
        "outputId": "2a6dec21-3639-4c0c-b461-46666fde321d"
      },
      "execution_count": 20,
      "outputs": [
        {
          "output_type": "error",
          "ename": "AttributeError",
          "evalue": "ignored",
          "traceback": [
            "\u001b[0;31m---------------------------------------------------------------------------\u001b[0m",
            "\u001b[0;31mAttributeError\u001b[0m                            Traceback (most recent call last)",
            "\u001b[0;32m<ipython-input-20-4e246d667f51>\u001b[0m in \u001b[0;36m<module>\u001b[0;34m\u001b[0m\n\u001b[1;32m      6\u001b[0m \u001b[0mli\u001b[0m \u001b[0;34m=\u001b[0m \u001b[0mlist\u001b[0m\u001b[0;34m(\u001b[0m\u001b[0mfilter\u001b[0m\u001b[0;34m(\u001b[0m\u001b[0mdiv5_4\u001b[0m\u001b[0;34m,\u001b[0m \u001b[0mli\u001b[0m\u001b[0;34m)\u001b[0m\u001b[0;34m)\u001b[0m\u001b[0;34m\u001b[0m\u001b[0;34m\u001b[0m\u001b[0m\n\u001b[1;32m      7\u001b[0m \u001b[0mx\u001b[0m \u001b[0;34m=\u001b[0m \u001b[0mreduce\u001b[0m\u001b[0;34m(\u001b[0m\u001b[0;32mlambda\u001b[0m \u001b[0mx\u001b[0m\u001b[0;34m,\u001b[0m\u001b[0my\u001b[0m\u001b[0;34m:\u001b[0m\u001b[0mx\u001b[0m\u001b[0;34m+\u001b[0m\u001b[0my\u001b[0m\u001b[0;34m,\u001b[0m \u001b[0mli\u001b[0m\u001b[0;34m)\u001b[0m\u001b[0;34m\u001b[0m\u001b[0;34m\u001b[0m\u001b[0m\n\u001b[0;32m----> 8\u001b[0;31m \u001b[0mx\u001b[0m \u001b[0;34m=\u001b[0m \u001b[0mli\u001b[0m\u001b[0;34m.\u001b[0m\u001b[0msum\u001b[0m\u001b[0;34m(\u001b[0m\u001b[0;34m)\u001b[0m \u001b[0;34m-\u001b[0m \u001b[0mx\u001b[0m\u001b[0;34m\u001b[0m\u001b[0;34m\u001b[0m\u001b[0m\n\u001b[0m",
            "\u001b[0;31mAttributeError\u001b[0m: 'list' object has no attribute 'sum'"
          ]
        }
      ]
    },
    {
      "cell_type": "code",
      "source": [
        "import pickle\n",
        "\n",
        "f=open(\"pickled.txt\",\"wb\")\n",
        "dct={'name': 'Rajneesh', 'age': 23, 'Gender': 'Male', 'marks': 75}\n",
        "pickle.dump(dct, f)\n",
        "f.close()\n",
        "\n",
        "f=open(\"pickled.txt\",\"rb\")\n",
        "dct=list(pickle.load(f))\n",
        "print(dct)\n",
        "f.close()"
      ],
      "metadata": {
        "colab": {
          "base_uri": "https://localhost:8080/"
        },
        "id": "Tiqnkyvi3qwn",
        "outputId": "a31b1702-937f-433e-e481-bf3ff9e9f042"
      },
      "execution_count": 21,
      "outputs": [
        {
          "output_type": "stream",
          "name": "stdout",
          "text": [
            "['name', 'age', 'Gender', 'marks']\n"
          ]
        }
      ]
    },
    {
      "cell_type": "code",
      "source": [
        "def foo(k):\n",
        "    k = [1]\n",
        "q = [0]\n",
        "foo(q)\n",
        "print(q)"
      ],
      "metadata": {
        "colab": {
          "base_uri": "https://localhost:8080/"
        },
        "id": "_hNcJFtV35yg",
        "outputId": "2c1f8594-da9b-4e27-a159-49b80f3417cb"
      },
      "execution_count": 22,
      "outputs": [
        {
          "output_type": "stream",
          "name": "stdout",
          "text": [
            "[0]\n"
          ]
        }
      ]
    },
    {
      "cell_type": "code",
      "source": [
        "l = ['good', 'oh!', \"excellent!\", \"#450\"]\n",
        "[n for n in l if n.isalpha() or n.isdigit()]"
      ],
      "metadata": {
        "colab": {
          "base_uri": "https://localhost:8080/"
        },
        "id": "LL4Cfc0h4Hk2",
        "outputId": "4e6a015b-d08a-4333-fe0c-0219ea0ca800"
      },
      "execution_count": 26,
      "outputs": [
        {
          "output_type": "execute_result",
          "data": {
            "text/plain": [
              "['good']"
            ]
          },
          "metadata": {},
          "execution_count": 26
        }
      ]
    },
    {
      "cell_type": "code",
      "source": [
        "s1={3, 4}\n",
        "s2={1, 2}\n",
        "s3=set()\n",
        "i=0\n",
        "j=0\n",
        "for i in s1:\n",
        "    for j in s2:\n",
        "        s3.add((i,j))\n",
        "        i+=1\n",
        "        j+=1\n",
        "print(s3)"
      ],
      "metadata": {
        "colab": {
          "base_uri": "https://localhost:8080/"
        },
        "id": "GM5uvrII4Npi",
        "outputId": "ca36cd69-0b6a-492f-e590-84d961ab8c78"
      },
      "execution_count": 27,
      "outputs": [
        {
          "output_type": "stream",
          "name": "stdout",
          "text": [
            "{(3, 1), (4, 1), (4, 2), (5, 2)}\n"
          ]
        }
      ]
    },
    {
      "cell_type": "code",
      "source": [
        "i, j = 0, 10\n",
        "while i <= 10 and j >=1:\n",
        "    print(i, j)\n",
        "    j = j - 1\n",
        "    i = i + 1\n",
        "    if i == j:\n",
        "        break"
      ],
      "metadata": {
        "colab": {
          "base_uri": "https://localhost:8080/"
        },
        "id": "-ABEubaf4ws0",
        "outputId": "b0adf164-0d88-4b70-eb6b-193f3ae6bfbb"
      },
      "execution_count": 28,
      "outputs": [
        {
          "output_type": "stream",
          "name": "stdout",
          "text": [
            "0 10\n",
            "1 9\n",
            "2 8\n",
            "3 7\n",
            "4 6\n"
          ]
        }
      ]
    },
    {
      "cell_type": "code",
      "source": [
        "x=1\n",
        "def cg():\n",
        " global x\n",
        " x=x+1 \n",
        "cg()\n",
        "x"
      ],
      "metadata": {
        "colab": {
          "base_uri": "https://localhost:8080/"
        },
        "id": "pjKoIyna5hKz",
        "outputId": "e2b9a34a-2d72-4ef8-aebb-0344e90d4c4d"
      },
      "execution_count": 29,
      "outputs": [
        {
          "output_type": "execute_result",
          "data": {
            "text/plain": [
              "2"
            ]
          },
          "metadata": {},
          "execution_count": 29
        }
      ]
    },
    {
      "cell_type": "code",
      "source": [
        "song=\"JINGLE Bells jingle Bells Jingle All The Way\"\n",
        "song.upper()\n",
        "song_words=song.split()\n",
        "count=0\n",
        "for word in song_words:\n",
        "    if(word.startswith(\"jingle\")):\n",
        "        count=count+1\n",
        "print(count)"
      ],
      "metadata": {
        "colab": {
          "base_uri": "https://localhost:8080/"
        },
        "id": "uHahz3eX5qjE",
        "outputId": "b8e1639b-27ed-4b84-9970-9481380392cd"
      },
      "execution_count": 30,
      "outputs": [
        {
          "output_type": "stream",
          "name": "stdout",
          "text": [
            "1\n"
          ]
        }
      ]
    },
    {
      "cell_type": "code",
      "source": [
        "class A():\n",
        "    def disp(self):\n",
        "        print(\"A disp()\")\n",
        "class B(A):\n",
        "    pass\n",
        "obj = B()\n",
        "\n",
        "obj.disp()"
      ],
      "metadata": {
        "colab": {
          "base_uri": "https://localhost:8080/"
        },
        "id": "IcOwK5Is5w9M",
        "outputId": "ff6e8350-f858-4037-ed99-14465566ae30"
      },
      "execution_count": 31,
      "outputs": [
        {
          "output_type": "stream",
          "name": "stdout",
          "text": [
            "A disp()\n"
          ]
        }
      ]
    },
    {
      "cell_type": "code",
      "source": [
        "a = [[[10835,   596],\n",
        "        [  142,   639],\n",
        "        [ 4165,    34]],\n",
        "\n",
        "       [[17193,  1753],\n",
        "        [ 4639,  7357],\n",
        "        [ 1278, 16389]],\n",
        "\n",
        "       [[10583,  1223],\n",
        "        [14326, 14079],\n",
        "        [ 4959, 14701]],\n",
        "\n",
        "       [[15612, 10027],\n",
        "        [ 1137, 15540],\n",
        "        [ 9194, 11609]],\n",
        "\n",
        "       [[12090, 10898],\n",
        "        [19437, 15070],\n",
        "        [16592,  6544]],\n",
        "\n",
        "       [[12367, 19572],\n",
        "        [ 8796,     4],\n",
        "        [13577,  6505]],\n",
        "\n",
        "       [[12489, 12089],\n",
        "        [15840,  5979],\n",
        "        [ 4952,  9753]],\n",
        "\n",
        "       [[ 6461,  1604],\n",
        "        [16877, 11262],\n",
        "        [13859, 12849]],\n",
        "\n",
        "       [[ 1654, 13335],\n",
        "        [ 8165, 10417],\n",
        "        [ 5226, 19609]],\n",
        "\n",
        "       [[ 8170,  3577],\n",
        "        [19748, 12171],\n",
        "        [ 7666, 14427]]]"
      ],
      "metadata": {
        "id": "qGRo98JT52oO"
      },
      "execution_count": 32,
      "outputs": []
    },
    {
      "cell_type": "code",
      "source": [
        "a[5:6][0][1][1]"
      ],
      "metadata": {
        "colab": {
          "base_uri": "https://localhost:8080/"
        },
        "id": "ZtpUnFGa6g-a",
        "outputId": "1a2cc364-a2fe-4a15-e747-3fb39c26cbfa"
      },
      "execution_count": 33,
      "outputs": [
        {
          "output_type": "execute_result",
          "data": {
            "text/plain": [
              "4"
            ]
          },
          "metadata": {},
          "execution_count": 33
        }
      ]
    },
    {
      "cell_type": "code",
      "source": [
        "class Customer:\n",
        "    def __init__(self, cust_id, age):\n",
        "        self.cust_id = cust_id\n",
        "        self.age = age\n",
        "\n",
        "c1=Customer(100,20)\n",
        "\n",
        "def change(c2):\n",
        "    c2=Customer(100,21)\n",
        "\n",
        "change(c1)\n",
        "print(c1.age)"
      ],
      "metadata": {
        "colab": {
          "base_uri": "https://localhost:8080/"
        },
        "id": "fEodh4fd6kcw",
        "outputId": "118d5fff-fd68-4600-d98c-1f968749b194"
      },
      "execution_count": 34,
      "outputs": [
        {
          "output_type": "stream",
          "name": "stdout",
          "text": [
            "20\n"
          ]
        }
      ]
    },
    {
      "cell_type": "code",
      "source": [
        "x = [[0], [1]]\n",
        "print((' '.join(list(map(str, x))),))"
      ],
      "metadata": {
        "colab": {
          "base_uri": "https://localhost:8080/"
        },
        "id": "aa6bpA6U6qRJ",
        "outputId": "5db16074-03e5-499c-f45d-4a66a02ba433"
      },
      "execution_count": 35,
      "outputs": [
        {
          "output_type": "stream",
          "name": "stdout",
          "text": [
            "('[0] [1]',)\n"
          ]
        }
      ]
    },
    {
      "cell_type": "code",
      "source": [
        "numbers = {}\n",
        "letters = {}\n",
        "comb = {}\n",
        "numbers[1] = 56\n",
        "numbers[3] = 7\n",
        "letters[4] = 'B'\n",
        "comb['Numbers'] = numbers\n",
        "comb['Letters'] = letters\n",
        "print(comb)"
      ],
      "metadata": {
        "colab": {
          "base_uri": "https://localhost:8080/"
        },
        "id": "AEaSYvhZ6veV",
        "outputId": "0b638fc1-a4b5-4294-d896-431ced5b458c"
      },
      "execution_count": 36,
      "outputs": [
        {
          "output_type": "stream",
          "name": "stdout",
          "text": [
            "{'Numbers': {1: 56, 3: 7}, 'Letters': {4: 'B'}}\n"
          ]
        }
      ]
    },
    {
      "cell_type": "code",
      "source": [
        "s='abaaabcpqeaaa'\n",
        "s = s[-2:2:-1].split('c')\n",
        "p = s[1].replace('aa', 'pe')\n",
        "print(p+s[0])"
      ],
      "metadata": {
        "colab": {
          "base_uri": "https://localhost:8080/"
        },
        "id": "b3AMiQ1H7IUB",
        "outputId": "eaf6d180-588f-4961-c86e-9c18abe41b3c"
      },
      "execution_count": 37,
      "outputs": [
        {
          "output_type": "stream",
          "name": "stdout",
          "text": [
            "bpeaaeqp\n"
          ]
        }
      ]
    },
    {
      "cell_type": "code",
      "source": [
        "a = -10\n",
        "b = -200\n",
        "c = 2000\n",
        "d = 4000\n",
        "if( a*b >=d):\n",
        "    if(d>c):\n",
        "        if(d%c!=0):\n",
        "            print(11)\n",
        "        else:\n",
        "            print(22)\n",
        "else:\n",
        "    if(b/a >0):\n",
        "        if(a<b or d%c!=0):\n",
        "          print(33)\n",
        "        else:\n",
        "          print(44)"
      ],
      "metadata": {
        "colab": {
          "base_uri": "https://localhost:8080/"
        },
        "id": "Z05fL5nU7PeU",
        "outputId": "71fdc6de-572d-4cd5-eff2-89f140bac3da"
      },
      "execution_count": 38,
      "outputs": [
        {
          "output_type": "stream",
          "name": "stdout",
          "text": [
            "44\n"
          ]
        }
      ]
    },
    {
      "cell_type": "code",
      "source": [
        "class Mobile:\n",
        "    def __init__(self,brand,case):\n",
        "        self.brand=brand\n",
        "        self.case=case\n",
        "    def display(self):\n",
        "        print(self.case.color)\n",
        "\n",
        "class Case:\n",
        "    def __init__(self,color):\n",
        "        self.color=color\n",
        "c1=Case(\"Black\")\n",
        "c2=Case(\"White\")\n",
        "m1=Mobile(\"Hony\",c1)\n",
        "c1.color=\"Green\"\n",
        "m1.display()"
      ],
      "metadata": {
        "colab": {
          "base_uri": "https://localhost:8080/"
        },
        "id": "h_zyblJN7a1r",
        "outputId": "c70683c4-a7cb-4388-8ad4-650eb2d2ec27"
      },
      "execution_count": 39,
      "outputs": [
        {
          "output_type": "stream",
          "name": "stdout",
          "text": [
            "Green\n"
          ]
        }
      ]
    },
    {
      "cell_type": "code",
      "source": [
        "class Demo:\n",
        "    def __init__(self):\n",
        "        self.x = 1\n",
        "    def change(self):\n",
        "        self.x = 10\n",
        "class Demo_derived(Demo):\n",
        "    def change(self):\n",
        "        self.x=self.x+1\n",
        "        return self.x\n",
        "def main():\n",
        "    obj = Demo_derived()\n",
        "    print(obj.change())\n",
        " \n",
        "main()"
      ],
      "metadata": {
        "colab": {
          "base_uri": "https://localhost:8080/"
        },
        "id": "IO4W_4AN7hrZ",
        "outputId": "e36dac0e-03e2-4e72-98ef-2e7369b30469"
      },
      "execution_count": 40,
      "outputs": [
        {
          "output_type": "stream",
          "name": "stdout",
          "text": [
            "2\n"
          ]
        }
      ]
    },
    {
      "cell_type": "code",
      "source": [
        "count={}\n",
        "count[(1,2,4)] = 5\n",
        "count[(4,2,1)] = 7\n",
        "count[(1,2)] = 6\n",
        "count[(4,2,1)] = 2\n",
        "tot = 0\n",
        "for i in count:\n",
        "    tot=tot+count[i]\n",
        "print(len(count)+tot)"
      ],
      "metadata": {
        "colab": {
          "base_uri": "https://localhost:8080/"
        },
        "id": "xosXmynY7now",
        "outputId": "6b3c5fbc-4497-4649-8600-fa418e2bf0d7"
      },
      "execution_count": 41,
      "outputs": [
        {
          "output_type": "stream",
          "name": "stdout",
          "text": [
            "16\n"
          ]
        }
      ]
    },
    {
      "cell_type": "code",
      "source": [],
      "metadata": {
        "id": "N9YIrBtQ7ut9"
      },
      "execution_count": null,
      "outputs": []
    }
  ]
}